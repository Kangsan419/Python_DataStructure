{
 "cells": [
  {
   "cell_type": "markdown",
   "id": "5dd1102d",
   "metadata": {},
   "source": [
    "# 1.1 재귀 함수 Recursive Function\n",
    "***\n",
    "* 자기 자신을 다시 호출하는 함수"
   ]
  },
  {
   "cell_type": "markdown",
   "id": "61dfe28b",
   "metadata": {},
   "source": [
    "## 1.1.1 재귀 함수로 팩토리얼 구현하기"
   ]
  },
  {
   "cell_type": "code",
   "execution_count": 2,
   "id": "e7684d57",
   "metadata": {},
   "outputs": [
    {
     "name": "stdout",
     "output_type": "stream",
     "text": [
      "1\n",
      "2\n",
      "6\n",
      "24\n",
      "120\n"
     ]
    }
   ],
   "source": [
    "#factorial = 1부터 n까지 곱을 의미함\n",
    "#N! = (n-1)! * n \n",
    "\n",
    "#factorial code \n",
    "def factorial(n):\n",
    "    #base case - 기저 사례('특정 조건에 재귀 하수가 더 이상 호출되지 않도록 하는 것')\n",
    "    if n<= 0:\n",
    "        return 1\n",
    "    return n*factorial(n-1)\n",
    "\n",
    "if __name__ == '__main__':\n",
    "    for i in range(1,6):\n",
    "        print(factorial(i))"
   ]
  },
  {
   "cell_type": "markdown",
   "id": "c0a6b151",
   "metadata": {},
   "source": [
    "##### 재귀 함수를 구현하기 위해서는 \n",
    "1. 언제 어떤 매개변수를 가지고 호출할지 정해야 한다\n",
    "2. 호출을 정지시켜 줄 base case가 필요하다"
   ]
  },
  {
   "cell_type": "markdown",
   "id": "fe14e406",
   "metadata": {},
   "source": [
    "# miscellaneous :\n",
    "\n",
    "``` \n",
    "if __name__ == '__main__'\n",
    "```\n",
    "\n",
    "##### 해당 모듈이 임포트된 경우가 아니라 인터프리터에서 직접 실행된 경우에만 if문 실행 \n",
    "\n",
    "* 파이썬의 두가지 특징 \n",
    "    1. main이 존재 X\n",
    "    2. 들여쓰기를 통해 코드 실행의 레벨을 결정 \n",
    "    \n",
    "* ```__name__``` 내장변수\n",
    "- this name is used to uniquely identify the module in the import system\n",
    "- 직접 실행된 모듈의 경우 ```__main__```이라는 값을 가짐\n",
    "- import된 모듈은 ```__(module_name)__```을 가짐 \n",
    "\n",
    "> 파이썬 인터프리터가 최초로 실행한 파일의 ```__name__ ```은 ```__main__```이 포함된다.\n",
    ">> it is **Entry Point** of program\n",
    "\n",
    "#### 스크립트 파일이 메인 프로그램으로 사용될 때와 모듈로 사용될 때를 구분하기 위한 용도\n",
    "***\n",
    "[mjk3136' Blog](https://velog.io/@mjk3136/if-name-main%EC%9D%80-%EC%99%9C-%ED%95%84%EC%9A%94%ED%95%9C%EC%A7%80%EC%97%90-%EB%8C%80%ED%95%B4-%EC%95%8C%EC%95%84%EB%B3%B4%EC%9E%90)"
   ]
  },
  {
   "cell_type": "markdown",
   "id": "5966e3c3",
   "metadata": {},
   "source": [
    "## 1.1.2 스택 프레임으로 재귀 함수 이해하기 "
   ]
  },
  {
   "cell_type": "code",
   "execution_count": 4,
   "id": "7edce3b6",
   "metadata": {},
   "outputs": [
    {
     "name": "stdout",
     "output_type": "stream",
     "text": [
      "30\n"
     ]
    }
   ],
   "source": [
    "#stack_frame\n",
    "#함수가 호출되었을 때 생성, 함수 실행이 종료되면 소멸 \n",
    "\n",
    "def add_two(a,b):\n",
    "    c = a+b\n",
    "    return c #return 값을 주면서 스택 프레임은 사라짐\n",
    "\n",
    "a = 10 \n",
    "b = 20 #a,b 는 프로그램이 시작되면서 끝날 때까지 메모리에 유지되는 global val.\n",
    "result = add_two(a,b) #add_two 함수를 호출할 때 '스택 프레임'에 함수 내부에 있는 매개변수 a,b와 지역 변수 c가 저장됨\n",
    "print(result)"
   ]
  },
  {
   "cell_type": "markdown",
   "id": "166123da",
   "metadata": {},
   "source": [
    "#### 스택 프래임\n",
    "* 함수가 호출 되었을 때 생성, 함수 실행이 종료되면 소멸\n",
    "* 스택 프래임은 메모리에 생성되는데 한계가 있어 recursion error가 날 수 있음 -> stack overflow\n",
    "* 이를 방지하기 위해 전달 받은 매개 변수 값이 특정한 부분에 도달하면 멈추게 하는 base case가 필요하다. \n"
   ]
  },
  {
   "cell_type": "markdown",
   "id": "5dadbbb7",
   "metadata": {},
   "source": [
    "## 1.1.3 순열을 재귀 함수로 구현 : 재귀 트리 사용"
   ]
  },
  {
   "cell_type": "code",
   "execution_count": 6,
   "id": "42e3686d",
   "metadata": {},
   "outputs": [
    {
     "name": "stdout",
     "output_type": "stream",
     "text": [
      "[1, 2, 3]\n",
      "[1, 3, 2]\n",
      "[2, 1, 3]\n",
      "[2, 3, 1]\n",
      "[3, 2, 1]\n",
      "[3, 1, 2]\n"
     ]
    }
   ],
   "source": [
    "#permutaion - 순서가 있는 집합을 다른 순서로 섞는 것\n",
    "\n",
    "def permutation(arr,start):\n",
    "    #base case \n",
    "    if len(arr)-1 == start:\n",
    "        print(arr)\n",
    "        return\n",
    "    \n",
    "    for idx in range(start,len(arr)): #idx로 집합의 모든 원소를 순회하면서 start와 idx의 원소를 바꾼다\n",
    "        #start를 한 칸 움직여서 다시 재귀 함수 호출 \n",
    "        arr[start],arr[idx] = arr[idx],arr[start]\n",
    "        permutation(arr,start+1)\n",
    "        #다시 스택 프레임으로 돌아와 원소를 다시 원래대로 돌려 놓기 \n",
    "        arr[start], arr[idx]=arr[idx],arr[start]\n",
    "        \n",
    "if __name__ == '__main__':\n",
    "    arr = [1,2,3]\n",
    "    permutation(arr,0)"
   ]
  }
 ],
 "metadata": {
  "kernelspec": {
   "display_name": "Python 3 (ipykernel)",
   "language": "python",
   "name": "python3"
  },
  "language_info": {
   "codemirror_mode": {
    "name": "ipython",
    "version": 3
   },
   "file_extension": ".py",
   "mimetype": "text/x-python",
   "name": "python",
   "nbconvert_exporter": "python",
   "pygments_lexer": "ipython3",
   "version": "3.9.7"
  }
 },
 "nbformat": 4,
 "nbformat_minor": 5
}
