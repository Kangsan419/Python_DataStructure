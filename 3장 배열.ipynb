{
 "cells": [
  {
   "cell_type": "markdown",
   "id": "6b327084",
   "metadata": {},
   "source": [
    "# 3.1 Dynamic Array "
   ]
  },
  {
   "cell_type": "markdown",
   "id": "1a8e7334",
   "metadata": {},
   "source": [
    "#### 컴퓨터의 메모리 구조 :\n",
    "* **Stack** : 스택 프레임이 쌓이는 메모리 공간\n",
    "    * 스택 프레임을 할당 -> 스택 프레임의 크기 미리 파악 \n",
    "    * 스택 프레임 크기 -> 고정됨\n",
    "    \n",
    "    \n",
    "* **Heap** : 변수의 생성 시기와 소멸 시기를 프로그래머가 결정할 수 있는 메모리가 동적으로 할당되는 영역\n",
    "    * 프로그래머가 필요한 만큼 할당 받았다가 더 많은 메모리가 필요하면 큰 공간을 확보하여 이전 배열 요소를 모두 복사한 후 새로운 데이터를 삽입할 수 있음"
   ]
  },
  {
   "cell_type": "markdown",
   "id": "326c7250",
   "metadata": {},
   "source": [
    "#### Heap  memory에 저장되는 array : Dynamic Array"
   ]
  },
  {
   "cell_type": "markdown",
   "id": "6f810033",
   "metadata": {},
   "source": [
    "##### Dynamic Array\n",
    "\n",
    "**Object** : \n",
    "\n",
    "    원소의 순서 있는 유한 집합 Array \n",
    "\n",
    "**Operation** :\n",
    "\n",
    "    1. Array.is_empty() -> Boolean \n",
    "        : 리스트 empty 여부 True, False\n",
    "        \n",
    "    2. Array.add_last(element)\n",
    "        : 리스트 마지막에 원소 추가 \n",
    "        \n",
    "    3. Array.insert(index,element)\n",
    "        : 리스트 index 위치에 element 삽입\n",
    "        \n",
    "    4. Arrary[index] -> element\n",
    "        : index에 위치한 원소 반환\n",
    "        \n",
    "    5. Array.remove_last() -> element\n",
    "        : 리스트의 라스트 원소를 삭제한 후 반환\n",
    "        \n",
    "    6. Array.remove(index) -> element \n",
    "        : 인덱스에 위치한 원소를 삭제하고 반환 "
   ]
  },
  {
   "cell_type": "markdown",
   "id": "b587f7e1",
   "metadata": {},
   "source": [
    "### 파이썬으로 구현"
   ]
  },
  {
   "cell_type": "markdown",
   "id": "5d524e0e",
   "metadata": {},
   "source": [
    "  #### Array.is_empty() -> Boolean "
   ]
  },
  {
   "cell_type": "code",
   "execution_count": 3,
   "id": "73a76abd",
   "metadata": {},
   "outputs": [
    {
     "data": {
      "text/plain": [
       "False"
      ]
     },
     "execution_count": 3,
     "metadata": {},
     "output_type": "execute_result"
    }
   ],
   "source": [
    "#is_empty() : 파이썬에서 빈 리스트는 거짓을 의미함\n",
    "#메서드 따로 필요 X,\n",
    "list = []\n",
    "\n",
    "bool(list)"
   ]
  },
  {
   "cell_type": "markdown",
   "id": "09e828c1",
   "metadata": {},
   "source": [
    "####     Array.add_last(element)"
   ]
  },
  {
   "cell_type": "code",
   "execution_count": 4,
   "id": "30aaf9a0",
   "metadata": {},
   "outputs": [
    {
     "data": {
      "text/plain": [
       "[1, 2, 3, 4, 5]"
      ]
     },
     "execution_count": 4,
     "metadata": {},
     "output_type": "execute_result"
    }
   ],
   "source": [
    "#add_last(element) : append()메서드가 리스트의 마지막에 원소를 추가하는 연산 수행 \n",
    "list = [1,2,3,4]\n",
    "list.append(5)\n",
    "list"
   ]
  },
  {
   "cell_type": "markdown",
   "id": "782bfd7d",
   "metadata": {},
   "source": [
    "####     Array.insert(index,element)"
   ]
  },
  {
   "cell_type": "code",
   "execution_count": 6,
   "id": "84e39ea5",
   "metadata": {},
   "outputs": [
    {
     "data": {
      "text/plain": [
       "[1, 2, 3, 5, 4]"
      ]
     },
     "execution_count": 6,
     "metadata": {},
     "output_type": "execute_result"
    }
   ],
   "source": [
    "#insert() 메서드가 중간에 원소를 추가하는 연산\n",
    "list = [1,2,3,4]\n",
    "list.insert(3,5)\n",
    "list"
   ]
  },
  {
   "cell_type": "markdown",
   "id": "42e4e087",
   "metadata": {},
   "source": [
    "####     Array.remove_last() -> element"
   ]
  },
  {
   "cell_type": "code",
   "execution_count": 9,
   "id": "eac0f2f3",
   "metadata": {},
   "outputs": [
    {
     "name": "stdout",
     "output_type": "stream",
     "text": [
      "5\n"
     ]
    },
    {
     "data": {
      "text/plain": [
       "[1, 2, 3, 4]"
      ]
     },
     "execution_count": 9,
     "metadata": {},
     "output_type": "execute_result"
    }
   ],
   "source": [
    "#pop() 메서드에 매개변수를 전달하지 않으면 리스트의 마지막 원소를 삭제 \n",
    "list =[1,2,3,4,5]\n",
    "print(list.pop())\n",
    "list"
   ]
  },
  {
   "cell_type": "markdown",
   "id": "93fe7a8d",
   "metadata": {},
   "source": [
    "####    Array.remove(index) -> element "
   ]
  },
  {
   "cell_type": "code",
   "execution_count": 10,
   "id": "8e72b243",
   "metadata": {},
   "outputs": [
    {
     "name": "stdout",
     "output_type": "stream",
     "text": [
      "4\n"
     ]
    },
    {
     "data": {
      "text/plain": [
       "[1, 2, 3, 5]"
      ]
     },
     "execution_count": 10,
     "metadata": {},
     "output_type": "execute_result"
    }
   ],
   "source": [
    "#pop() 메서드에 매개변수로 인덱스를 전달하면 인덱스의 원소를 삭제\n",
    "list = [1,2,3,4,5]\n",
    "print(list.pop(3))\n",
    "list"
   ]
  },
  {
   "cell_type": "markdown",
   "id": "61bebd0e",
   "metadata": {},
   "source": [
    "# 3.2 지역성의 원리와 캐시"
   ]
  },
  {
   "cell_type": "markdown",
   "id": "511983bd",
   "metadata": {},
   "source": [
    "#### 배열이 메모리에 저장 될 때 특징 : \n",
    "\n",
    "    물리적, 선형적으로 이어져 있음"
   ]
  },
  {
   "cell_type": "code",
   "execution_count": null,
   "id": "e361727d",
   "metadata": {},
   "outputs": [],
   "source": [
    "#principle_of_locality\n",
    "\n",
    "# 연산 결과를 축적하는 ret, arr에서 하나씩 가져와 저장하는 elem\n",
    "def sum_all(arr):\n",
    "    ret = 0\n",
    "    for elem in arr :\n",
    "        ret += elem\n",
    "    return ret"
   ]
  },
  {
   "cell_type": "markdown",
   "id": "369f4cb0",
   "metadata": {},
   "source": [
    "#### Cache Memory\n",
    "* 주기억장치에서 자주 사용하는 데이터를 저장하는 메모리 \n",
    "* 병목현상을 줄이기 위한 범용 메모리\n",
    "* 주기억장치와 CPU 사이에 위치 \n",
    "\n",
    "#### Localtiy of Cache \n",
    "* 지역성 : 데이터 접근이 시간적, 공잔적으로 가깝게 일어나는 것 \n",
    "* Hi rate를 높이기 위해 어느 특정 부분을 참조하는 특성 \n",
    "\n",
    "#### Types of Locality \n",
    "* 시간적 지역성 \n",
    "    * 특정 데이터가 한번 접근되었을 때, 근미래에 접근할 가능성이 높을 것이라고 본다 \n",
    "    * 메모리 상의 같은 주소에 연속적으로 접근할 경우 효율성 증가 \n",
    "* 공간적 지역성 \n",
    "    * 특정 데이터와 가까운 주소가 **순서대로** 접근되었을 경우\n",
    "    * 메모리 주소에 접근할 때 해당 블록을 전부 캐시에 가져오게 된다.\n",
    "    * 메모리 주소를 순서대로 접근하게 된다면, 저장된 한 블록의 데이터에 접근하게 됨으로 효율성 증가\n",
    "    \n",
    "    \n",
    "참조 : [chesleashin](https://chelseashin.tistory.com/43)"
   ]
  },
  {
   "cell_type": "markdown",
   "id": "53ef9f8e",
   "metadata": {},
   "source": [
    "# 3.3 Indexing : Faster way to access data"
   ]
  },
  {
   "cell_type": "markdown",
   "id": "3a038254",
   "metadata": {},
   "source": [
    "#### 배열의 요소는 메모리에 선형적으로 존재"
   ]
  },
  {
   "cell_type": "markdown",
   "id": "2c6ceb5b",
   "metadata": {},
   "source": [
    "데이터의 주소 값은 다음의 간단한 수식으로 표현 될 수 있음 :\n",
    "\n",
    "$$데이터 주소 값 = 배열의 첫 주소 값 + (데이터 크기 * 인덱스)$$\n",
    "\n",
    "성능 :   $O(1)$"
   ]
  },
  {
   "cell_type": "markdown",
   "id": "91a5e027",
   "metadata": {},
   "source": [
    "# 3.4 Adding and Deleting in Dynamic Array "
   ]
  },
  {
   "cell_type": "markdown",
   "id": "11e17e7b",
   "metadata": {},
   "source": [
    "#### 배열의 element를 삭제 혹은 삽입하는 두 가지 경우 :\n",
    "    - 배열의 마지막에 추가 혹은 삭제 \n",
    "     \n",
    "    - 배열의 중간에 추가 혹은 삭제 "
   ]
  },
  {
   "cell_type": "markdown",
   "id": "bebe2546",
   "metadata": {},
   "source": [
    "## 배열의 마지막에 추가 혹은 삭제 "
   ]
  },
  {
   "cell_type": "markdown",
   "id": "c6685fba",
   "metadata": {},
   "source": [
    "#### 배열이 확보한 메모리 공간 : capacity \n",
    "#### 채워진 데이터 크기 : size\n",
    "\n",
    "\n",
    "### if capacity $>$ size \n",
    "#### 추가의 경우\n",
    "* 배열의 마지막 요소에 추가 \n",
    "\n",
    "성능 : $O(1)$\n",
    "\n",
    "#### 삭제의 경우 \n",
    "* size - 1 \n",
    "\n",
    "성능 : $O(1)$\n",
    "\n",
    "### if capacity $<$ size \n",
    "#### 추가의 경우 \n",
    "* 충분한 공간을 다시 확보하고 기존 배열 요소를 모두 복사한 후 새로운 데이터를 추가해야 한다\n",
    "\n",
    "성능 : $O(n)$"
   ]
  },
  {
   "cell_type": "markdown",
   "id": "9d1df877",
   "metadata": {},
   "source": [
    "## 배열의 중간에 추가 혹은 삭제"
   ]
  },
  {
   "cell_type": "markdown",
   "id": "b99803e5",
   "metadata": {},
   "source": [
    "#### 추가의 경우\n",
    "* 삽입하고자 하는 index의 뒷 부분을 모두 한 번씩 뒤로 옮기고 삽입\n",
    "\n",
    "성능 : $O(n)$\n",
    "\n",
    "#### 삭제의 경우 \n",
    "* 삭제하고자 하는 index의 뒷 부분을 모두 한 번씩 앞으로 옮김 \n",
    "\n",
    "성능 : $O(n)$"
   ]
  },
  {
   "cell_type": "markdown",
   "id": "91c2ed26",
   "metadata": {},
   "source": [
    "## 결론 :\n",
    "\n",
    "###  대부분의 언어가 동적 배열을 지원한다\n",
    "\n",
    "### append() 와 insert() 중 무엇을 사용할지 판단할 때 기억하자"
   ]
  }
 ],
 "metadata": {
  "kernelspec": {
   "display_name": "Python 3 (ipykernel)",
   "language": "python",
   "name": "python3"
  },
  "language_info": {
   "codemirror_mode": {
    "name": "ipython",
    "version": 3
   },
   "file_extension": ".py",
   "mimetype": "text/x-python",
   "name": "python",
   "nbconvert_exporter": "python",
   "pygments_lexer": "ipython3",
   "version": "3.9.7"
  }
 },
 "nbformat": 4,
 "nbformat_minor": 5
}
