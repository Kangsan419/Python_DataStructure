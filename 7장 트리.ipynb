{
 "cells": [
  {
   "cell_type": "markdown",
   "id": "4d518c23",
   "metadata": {},
   "source": [
    "# 7.1 트리 용어 정리"
   ]
  },
  {
   "cell_type": "markdown",
   "id": "8202e5b3",
   "metadata": {},
   "source": [
    "<img src = \"img/tree.png\">"
   ]
  },
  {
   "cell_type": "markdown",
   "id": "64c9d68a",
   "metadata": {},
   "source": [
    "* Tree의 정점은 노드, Node라고 함 \n",
    "* 부모, 자식, 조상, 자손의 개념\n",
    "    * Root Node = Node 1\n",
    "    * Node 1 is **Parent Node** of Node 2,3\n",
    "    * Node 2,3 is **Child Node** of Node 1\n",
    "    * Node 1 is **Ancestor** of Node 4,5,6,7,8\n",
    "    * Node 8 is **Descendant** of Node 1"
   ]
  },
  {
   "cell_type": "markdown",
   "id": "5aaf6efb",
   "metadata": {},
   "source": [
    "### Degree of a Tree"
   ]
  },
  {
   "cell_type": "markdown",
   "id": "62b36e1a",
   "metadata": {},
   "source": [
    "#### 차수 : 어떤 노드의 자식 노드 개수\n",
    "\n",
    "* Leaf Node - 차수가 0인 노드 \n",
    "    : Node 4,5,6,7,8\n",
    "* Internal Node - root, and leaf node를 제외한 모든 노드 "
   ]
  },
  {
   "cell_type": "markdown",
   "id": "f4f6a812",
   "metadata": {},
   "source": [
    "### Level"
   ]
  },
  {
   "cell_type": "markdown",
   "id": "ebc57245",
   "metadata": {},
   "source": [
    "#### 루트의 레벨을 LV.1로 하고 자식으로 내려가면서 하나씩 더해지는 개념\n",
    "\n",
    "* 어떤 트리의 depth or height는 트리가 가지는 최대 level을 의미함 \n",
    "* 일반적인 정의의 트리에서 노드와 에지 사이에 꼭 인지해야하는 수식이 있다. \n",
    "    : 노드를 $n$, 에지를 $e$ 라고 할 때,\n",
    "    \n",
    "    $e = n-1$\n",
    "    \n",
    "    \n",
    "* 만약 트리(사이클이 없는 연결된 그래프)에 에지가 하나라도 추가되면 ($e > n-1$) 트리에는 사이클이 생김"
   ]
  },
  {
   "cell_type": "markdown",
   "id": "cd447bb8",
   "metadata": {},
   "source": [
    "### Binary Tree"
   ]
  },
  {
   "cell_type": "markdown",
   "id": "d06175d0",
   "metadata": {},
   "source": [
    "<img src =\"img/binary.png\">"
   ]
  },
  {
   "cell_type": "markdown",
   "id": "13931aed",
   "metadata": {},
   "source": [
    "* 트리를 구성하는 노드의 자식이 최대 두 개인 트리를 의미함 \n",
    "* 모든 노드를 다음과 같이 구분할 수 있음\n",
    "\n",
    "    - 자식 X\n",
    "    - 자식 노드가 1개 \n",
    "    - 자식 노드가 2개 \n",
    "\n",
    "* 자식을 **왼쪽 자식** 과 **오른쪽 자식**으로 구분함 "
   ]
  },
  {
   "cell_type": "markdown",
   "id": "7db471d5",
   "metadata": {},
   "source": [
    "#### 이진 트리의 한 레벨에서 최대 노드 개수를 구하는 식 :\n",
    "\n",
    "#### $$2^{level-1}$$"
   ]
  },
  {
   "cell_type": "markdown",
   "id": "2b2452f7",
   "metadata": {},
   "source": [
    "#### 이진  트리  높이가 $h$ 일 때 최대 노드 수 :\n",
    "\n",
    "$$2^{height} - 1$$\n",
    "\n",
    "#### 이진 트리 높이가 $h$일 때 최소 노드 수 :\n",
    "\n",
    "$$h$$"
   ]
  },
  {
   "cell_type": "markdown",
   "id": "89cc5132",
   "metadata": {},
   "source": [
    "### Full Binary Tree"
   ]
  },
  {
   "cell_type": "markdown",
   "id": "d0ed7aa6",
   "metadata": {},
   "source": [
    "* 포화 이진 트리 : 높이가 $h$일 때 노드 개수가 $2^{h}-1$인 트리\n",
    "* 모든 레벨에 가능한 모든 노드가 있음 "
   ]
  },
  {
   "cell_type": "markdown",
   "id": "96272ed8",
   "metadata": {},
   "source": [
    "* Complete Binary Tree - 높이가 $h$일 때 레벨 $h-1$까지 노드 개수는 $2^{h-1}$이고 레벨 $h$에서는 노드가 왼쪽에서 오른쪽으로 채워지는 트리"
   ]
  },
  {
   "cell_type": "markdown",
   "id": "63255648",
   "metadata": {},
   "source": [
    "### Skewed Binary Tree"
   ]
  },
  {
   "cell_type": "markdown",
   "id": "df230bcc",
   "metadata": {},
   "source": [
    "<img src =\"img/skewed.png\">"
   ]
  },
  {
   "cell_type": "markdown",
   "id": "dec0ba8b",
   "metadata": {},
   "source": [
    "* 편향 이진 트리 : 왼쪽이나 오른쪽 서브 트리만 가진 트리를 의미함 "
   ]
  },
  {
   "cell_type": "markdown",
   "id": "514f878b",
   "metadata": {},
   "source": [
    "# 7.2 이진 트리의 순회"
   ]
  },
  {
   "cell_type": "markdown",
   "id": "cdf640a5",
   "metadata": {},
   "source": [
    "## 7.2.1 Preorder Traversal "
   ]
  },
  {
   "cell_type": "markdown",
   "id": "22c86df1",
   "metadata": {},
   "source": [
    "<img src = \"img/preorder.png\">"
   ]
  },
  {
   "cell_type": "markdown",
   "id": "e8a784ff",
   "metadata": {},
   "source": [
    "* 전위 순회의 방문 순서는 :\n",
    "    \n",
    "    1. 현재 노드 \n",
    "    2. 왼쪽 서브 트리 \n",
    "    3. 오른쪽 서브 트리\n",
    "    \n",
    "    \n",
    "* 각 서브 트리도 한 이진 트리로써 전위 순회를 함 \n",
    "    \n",
    "    -> 재귀적인 방문 수행 \n",
    "    \n",
    "    \n",
    "* 전위 순회는 DFS 일종, 스택 계열의 함수로 다음과 같은 방법으로 구현할 수 있음  \n",
    "        : 재귀 함수로 구현 \n",
    "        : 스택 자료 구조\n",
    "        : 반복문"
   ]
  },
  {
   "cell_type": "code",
   "execution_count": 8,
   "id": "7e3f9478",
   "metadata": {},
   "outputs": [],
   "source": [
    "#Binary Tree 만들기 \n",
    "\n",
    "#stack 불러오기\n",
    "class Stack:\n",
    "    def __init__(self):\n",
    "        # 내부 표현(representation)\n",
    "        # 실제로 데이터를 담을 객체는 \n",
    "        # 동적 배열\n",
    "        self.container=list()\n",
    "\n",
    "    def empty(self):\n",
    "        if not self.container:\n",
    "            return True\n",
    "        else:\n",
    "            return False\n",
    "\n",
    "    def push(self, data):\n",
    "        # 맨 마지막 요소가 top\n",
    "        # 동적 배열의 맨 마지막에 요소를 추가하는 것은\n",
    "        # 스택의 top에 요소를 추가하는 것과 같다.\n",
    "        self.container.append(data)\n",
    "\n",
    "    def pop(self):\n",
    "        if self.empty():\n",
    "            return None\n",
    "        return self.container.pop()\n",
    "\n",
    "    def peek(self):\n",
    "        if self.empty():\n",
    "            return None\n",
    "        return self.container[-1]\n",
    "    \n",
    "#tree 구현\n",
    "class TreeNode:\n",
    "    def __init__(self,data = None):\n",
    "        self.__data = data\n",
    "        self.__left = None\n",
    "        self.__right = None\n",
    "        \n",
    "    def __del__(self):\n",
    "        print('data {} is deleted'.format(self.__data))\n",
    "        \n",
    "    @property\n",
    "    def data(self):\n",
    "        return self.__data\n",
    "    \n",
    "    @data.setter\n",
    "    def data(self, data):\n",
    "        self.__data = data\n",
    "        \n",
    "    @property\n",
    "    def left(self):\n",
    "        return self.__left\n",
    "    \n",
    "    @left.setter\n",
    "    def left(self,left):\n",
    "        self.__left = left\n",
    "        \n",
    "    @property\n",
    "    def right(self):\n",
    "        return self.__right\n",
    "    \n",
    "    @right.setter\n",
    "    def right(self,right):\n",
    "        self.__right = right\n",
    "\n",
    "def preorder(cur):\n",
    "        #현재 노드가 empty node라면 \n",
    "    if not cur:\n",
    "        return\n",
    "        \n",
    "        #방문\n",
    "    print(cur.data, end = \" \")\n",
    "    preorder(cur.left) #왼쪽 서브 트리로 이동\n",
    "    preorder(cur.right) #오른쪽 서브 트리로 이동\n",
    "    \n",
    "def iter_preorder(cur):\n",
    "    s = stack()\n",
    "    while True :\n",
    "        while cur :\n",
    "            print(cur.data, end = ' ') #방문\n",
    "            s.push(cur)\n",
    "            cur = cur.left #왼쪽 방향으로 내려감\n",
    "            \n",
    "        cur = s.pop() \n",
    "        if not cur:\n",
    "            break\n",
    "        cur = cur.right\n",
    "\n",
    "        \n"
   ]
  },
  {
   "cell_type": "code",
   "execution_count": null,
   "id": "76f590ad",
   "metadata": {},
   "outputs": [],
   "source": [
    "#tree test\n",
    "if __name__ == \"__main__\":\n",
    "    n1 = TreeNode(1)\n",
    "    n2 = TreeNode(2)\n",
    "    n3 = TreeNode(3)\n",
    "    n4 = TreeNode(4)\n",
    "    n5 = TreeNode(5)\n",
    "    n6 = TreeNode(6)\n",
    "    n7 = TreeNode(7)\n",
    "        \n",
    "    n1.left = n2 ; n1.right = n3\n",
    "    n2.left = n4 ; n2.right = n5\n",
    "    n3.left = n6 ; n3.rigth = n7\n",
    "    \n",
    "    preorder(n1)\n",
    "    print()"
   ]
  },
  {
   "cell_type": "markdown",
   "id": "438520ed",
   "metadata": {},
   "source": [
    "## 7.2.2 Inorder Traversal"
   ]
  },
  {
   "cell_type": "markdown",
   "id": "9269ce2c",
   "metadata": {},
   "source": [
    "<img src = \"img/inorder.png\">"
   ]
  },
  {
   "cell_type": "markdown",
   "id": "4dc07adf",
   "metadata": {},
   "source": [
    "* 중위 순회의 방문 순서 :\n",
    "\n",
    "\n",
    "    1. 왼쪽 서브 트리 \n",
    "    2. 현재 노드\n",
    "    3. 오른쪽 서브 트리 \n",
    "    \n",
    "    \n",
    "    \n",
    "* 스택 계열의 순회로 재귀 함수를 이용해서 구현하면 편리함 "
   ]
  },
  {
   "cell_type": "code",
   "execution_count": 11,
   "id": "51df4422",
   "metadata": {},
   "outputs": [],
   "source": [
    "def inorder(cur):\n",
    "    #현재 노드가 empty node라면\n",
    "    if not cur:\n",
    "        return\n",
    "    \n",
    "    #왼쪽 서브 트리로 이동 \n",
    "    inorder(cur.left)\n",
    "    \n",
    "    #방문 \n",
    "    print(cur.data, end = \" \")\n",
    "    \n",
    "    #오른쪽 서브 트리로 이동 \n",
    "    inorder(cur.right)\n",
    "    \n",
    "    \n",
    "    \n",
    "#스택 자료구조와 반복문을 이용한 구현 \n",
    "def iter_inorder(cur):\n",
    "    s = Stack()\n",
    "    while True:\n",
    "        while cur:\n",
    "            s.push(cur)\n",
    "            cur = cur.left\n",
    "        cur = s.pop()\n",
    "        if not cur:\n",
    "            break\n",
    "        #pop한 후에 방문을 함\n",
    "        print(cur.data, end = \" \")\n",
    "        cur = cur.right"
   ]
  },
  {
   "cell_type": "code",
   "execution_count": 12,
   "id": "e2b07db1",
   "metadata": {},
   "outputs": [
    {
     "name": "stdout",
     "output_type": "stream",
     "text": [
      "data 1 is deleted\n",
      "data 2 is deleted\n",
      "data 3 is deleted\n",
      "data 4 is deleted\n",
      "data 5 is deleted\n",
      "data 6 is deleted\n",
      "data 7 is deleted\n",
      "4 2 5 1 6 3 \n"
     ]
    }
   ],
   "source": [
    "#tree test\n",
    "if __name__ == \"__main__\":\n",
    "    n1 = TreeNode(1)\n",
    "    n2 = TreeNode(2)\n",
    "    n3 = TreeNode(3)\n",
    "    n4 = TreeNode(4)\n",
    "    n5 = TreeNode(5)\n",
    "    n6 = TreeNode(6)\n",
    "    n7 = TreeNode(7)\n",
    "        \n",
    "    n1.left = n2 ; n1.right = n3\n",
    "    n2.left = n4 ; n2.right = n5\n",
    "    n3.left = n6 ; n3.rigth = n7\n",
    "    \n",
    "    iter_inorder(n1)\n",
    "    print()"
   ]
  },
  {
   "cell_type": "markdown",
   "id": "cb18df85",
   "metadata": {},
   "source": [
    "## 7.2.3 Postorder Traversal"
   ]
  },
  {
   "cell_type": "markdown",
   "id": "63e78042",
   "metadata": {},
   "source": [
    "<img src = \"img/postorder.png\">"
   ]
  },
  {
   "cell_type": "markdown",
   "id": "0e1d254c",
   "metadata": {},
   "source": [
    "* 후위 순회의 방문 순서 :\n",
    "\n",
    "    1. 왼쪽 서브 트리 \n",
    "    2. 오른쪽 서브 트리 \n",
    "    3. 현재 노드 "
   ]
  },
  {
   "cell_type": "code",
   "execution_count": 13,
   "id": "b00e550c",
   "metadata": {},
   "outputs": [],
   "source": [
    "#postorder\n",
    "\n",
    "def postorder(cur):\n",
    "    if not cur:\n",
    "        return \n",
    "    \n",
    "    postorder(cur.left)\n",
    "    postorder(cur.right)\n",
    "    print(cur.data, end = ' ')"
   ]
  },
  {
   "cell_type": "code",
   "execution_count": 15,
   "id": "43f2bf7a",
   "metadata": {},
   "outputs": [
    {
     "name": "stdout",
     "output_type": "stream",
     "text": [
      "data 1 is deleted\n",
      "data 2 is deleted\n",
      "data 3 is deleted\n",
      "data 4 is deleted\n",
      "data 5 is deleted\n",
      "data 6 is deleted\n",
      "data 7 is deleted\n",
      "4 5 2 6 3 1 \n"
     ]
    }
   ],
   "source": [
    "#tree test\n",
    "if __name__ == \"__main__\":\n",
    "    n1 = TreeNode(1)\n",
    "    n2 = TreeNode(2)\n",
    "    n3 = TreeNode(3)\n",
    "    n4 = TreeNode(4)\n",
    "    n5 = TreeNode(5)\n",
    "    n6 = TreeNode(6)\n",
    "    n7 = TreeNode(7)\n",
    "        \n",
    "    n1.left = n2 ; n1.right = n3\n",
    "    n2.left = n4 ; n2.right = n5\n",
    "    n3.left = n6 ; n3.rigth = n7\n",
    "    \n",
    "    postorder(n1)\n",
    "    print()"
   ]
  },
  {
   "cell_type": "markdown",
   "id": "c18d428f",
   "metadata": {},
   "source": [
    "## 7.2.4 Levelorder Traversal"
   ]
  },
  {
   "cell_type": "markdown",
   "id": "ac244580",
   "metadata": {},
   "source": [
    "<img src = \"img/levelorder.png\">"
   ]
  },
  {
   "cell_type": "markdown",
   "id": "eec3b2b3",
   "metadata": {},
   "source": [
    "* 레벨 순서 순회는 큐를 사용하는 순회 방법 -> BFS의 일종 "
   ]
  },
  {
   "cell_type": "code",
   "execution_count": 16,
   "id": "96f78eed",
   "metadata": {},
   "outputs": [],
   "source": [
    "from queue import Queue\n",
    "def levelorder(cur):\n",
    "    q = Queue()\n",
    "    \n",
    "    q.put()\n",
    "    while not q.empty():\n",
    "        cur = q.get()\n",
    "        \n",
    "        #방문 \n",
    "        print(cur.data, end = \" \")\n",
    "        \n",
    "        #현재 노드의 왼쪽 자식이 있다면 큐에 추가 \n",
    "        if cur.left:\n",
    "            q.put(cur.left)\n",
    "            \n",
    "        #현재 노드의 오른쪽 자식이 있다면 큐에 추가 \n",
    "        if cur.right:\n",
    "            q.put(cur.right)"
   ]
  },
  {
   "cell_type": "code",
   "execution_count": 17,
   "id": "31e3035c",
   "metadata": {},
   "outputs": [
    {
     "name": "stdout",
     "output_type": "stream",
     "text": [
      "data 1 is deleted\n",
      "data 2 is deleted\n",
      "data 3 is deleted\n",
      "data 4 is deleted\n",
      "data 5 is deleted\n",
      "data 6 is deleted\n",
      "data 7 is deleted\n"
     ]
    },
    {
     "ename": "TypeError",
     "evalue": "put() missing 1 required positional argument: 'item'",
     "output_type": "error",
     "traceback": [
      "\u001b[0;31m---------------------------------------------------------------------------\u001b[0m",
      "\u001b[0;31mTypeError\u001b[0m                                 Traceback (most recent call last)",
      "\u001b[0;32m/var/folders/0t/xgly_s_n1kdbpwm27d0kbl3c0000gn/T/ipykernel_37723/2169001965.py\u001b[0m in \u001b[0;36m<module>\u001b[0;34m\u001b[0m\n\u001b[1;32m     13\u001b[0m     \u001b[0mn3\u001b[0m\u001b[0;34m.\u001b[0m\u001b[0mleft\u001b[0m \u001b[0;34m=\u001b[0m \u001b[0mn6\u001b[0m \u001b[0;34m;\u001b[0m \u001b[0mn3\u001b[0m\u001b[0;34m.\u001b[0m\u001b[0mrigth\u001b[0m \u001b[0;34m=\u001b[0m \u001b[0mn7\u001b[0m\u001b[0;34m\u001b[0m\u001b[0;34m\u001b[0m\u001b[0m\n\u001b[1;32m     14\u001b[0m \u001b[0;34m\u001b[0m\u001b[0m\n\u001b[0;32m---> 15\u001b[0;31m     \u001b[0mlevelorder\u001b[0m\u001b[0;34m(\u001b[0m\u001b[0mn1\u001b[0m\u001b[0;34m)\u001b[0m\u001b[0;34m\u001b[0m\u001b[0;34m\u001b[0m\u001b[0m\n\u001b[0m\u001b[1;32m     16\u001b[0m     \u001b[0mprint\u001b[0m\u001b[0;34m(\u001b[0m\u001b[0;34m)\u001b[0m\u001b[0;34m\u001b[0m\u001b[0;34m\u001b[0m\u001b[0m\n",
      "\u001b[0;32m/var/folders/0t/xgly_s_n1kdbpwm27d0kbl3c0000gn/T/ipykernel_37723/425354035.py\u001b[0m in \u001b[0;36mlevelorder\u001b[0;34m(cur)\u001b[0m\n\u001b[1;32m      3\u001b[0m     \u001b[0mq\u001b[0m \u001b[0;34m=\u001b[0m \u001b[0mQueue\u001b[0m\u001b[0;34m(\u001b[0m\u001b[0;34m)\u001b[0m\u001b[0;34m\u001b[0m\u001b[0;34m\u001b[0m\u001b[0m\n\u001b[1;32m      4\u001b[0m \u001b[0;34m\u001b[0m\u001b[0m\n\u001b[0;32m----> 5\u001b[0;31m     \u001b[0mq\u001b[0m\u001b[0;34m.\u001b[0m\u001b[0mput\u001b[0m\u001b[0;34m(\u001b[0m\u001b[0;34m)\u001b[0m\u001b[0;34m\u001b[0m\u001b[0;34m\u001b[0m\u001b[0m\n\u001b[0m\u001b[1;32m      6\u001b[0m     \u001b[0;32mwhile\u001b[0m \u001b[0;32mnot\u001b[0m \u001b[0mq\u001b[0m\u001b[0;34m.\u001b[0m\u001b[0mempty\u001b[0m\u001b[0;34m(\u001b[0m\u001b[0;34m)\u001b[0m\u001b[0;34m:\u001b[0m\u001b[0;34m\u001b[0m\u001b[0;34m\u001b[0m\u001b[0m\n\u001b[1;32m      7\u001b[0m         \u001b[0mcur\u001b[0m \u001b[0;34m=\u001b[0m \u001b[0mq\u001b[0m\u001b[0;34m.\u001b[0m\u001b[0mget\u001b[0m\u001b[0;34m(\u001b[0m\u001b[0;34m)\u001b[0m\u001b[0;34m\u001b[0m\u001b[0;34m\u001b[0m\u001b[0m\n",
      "\u001b[0;31mTypeError\u001b[0m: put() missing 1 required positional argument: 'item'"
     ]
    }
   ],
   "source": [
    "#tree test\n",
    "if __name__ == \"__main__\":\n",
    "    n1 = TreeNode(1)\n",
    "    n2 = TreeNode(2)\n",
    "    n3 = TreeNode(3)\n",
    "    n4 = TreeNode(4)\n",
    "    n5 = TreeNode(5)\n",
    "    n6 = TreeNode(6)\n",
    "    n7 = TreeNode(7)\n",
    "        \n",
    "    n1.left = n2 ; n1.right = n3\n",
    "    n2.left = n4 ; n2.right = n5\n",
    "    n3.left = n6 ; n3.rigth = n7\n",
    "    \n",
    "    levelorder(n1)\n",
    "    print()"
   ]
  },
  {
   "cell_type": "code",
   "execution_count": null,
   "id": "dad62d73",
   "metadata": {},
   "outputs": [],
   "source": []
  }
 ],
 "metadata": {
  "kernelspec": {
   "display_name": "Python 3 (ipykernel)",
   "language": "python",
   "name": "python3"
  },
  "language_info": {
   "codemirror_mode": {
    "name": "ipython",
    "version": 3
   },
   "file_extension": ".py",
   "mimetype": "text/x-python",
   "name": "python",
   "nbconvert_exporter": "python",
   "pygments_lexer": "ipython3",
   "version": "3.9.7"
  }
 },
 "nbformat": 4,
 "nbformat_minor": 5
}
