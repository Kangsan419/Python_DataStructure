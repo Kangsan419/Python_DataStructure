{
 "cells": [
  {
   "cell_type": "markdown",
   "id": "141ffa28",
   "metadata": {},
   "source": [
    "# 8.1 Binary Search Algorithm"
   ]
  },
  {
   "cell_type": "markdown",
   "id": "35962197",
   "metadata": {},
   "source": [
    "* 이진 탐색 알고리즘 : 정렬된 데이터로 된 리스트가 인수로 들어왔을 때 요소 중에 찾고자 하는 데이터가 있는지 알아보는 알고리즘\n",
    "\n",
    "!! **인수로 전달된 리스트 요소들이 정렬되어 있다** !!"
   ]
  },
  {
   "cell_type": "code",
   "execution_count": 4,
   "id": "530555c8",
   "metadata": {},
   "outputs": [],
   "source": [
    "#binary_search.py\n",
    "def binary_search(li,target):\n",
    "    \n",
    "    '''\n",
    "    인자로 전달된 리스트 요소는 정렬되어 있음\n",
    "    '''\n",
    "    \n",
    "    start = 0\n",
    "    end = len(li)-1\n",
    "    \n",
    "    while start <= end :\n",
    "        middle = (start+end)//2\n",
    "        if li[middle] == target :\n",
    "            return middle\n",
    "        elif li[middle] > target:\n",
    "            end = middle -1\n",
    "        else:\n",
    "            start = middle + 1\n",
    "            \n",
    "    return None"
   ]
  },
  {
   "cell_type": "code",
   "execution_count": 5,
   "id": "822efe32",
   "metadata": {},
   "outputs": [
    {
     "name": "stdout",
     "output_type": "stream",
     "text": [
      "index : 2, data : 9\n"
     ]
    }
   ],
   "source": [
    "#tree test\n",
    "if __name__==\"__main__\":\n",
    "    data=[i**2 for i in range(1, 10)]\n",
    "\n",
    "    target=9\n",
    "    idx=binary_search(data, target)\n",
    "\n",
    "    if idx:\n",
    "        print('index : {}, data : {}'.format(idx, data[idx]))\n",
    "    else:\n",
    "        print('Failed to find the data of {}'.format(target))"
   ]
  },
  {
   "cell_type": "markdown",
   "id": "f93da799",
   "metadata": {},
   "source": [
    "#### 이진 탐색은 $O(log \\,n)$의 시간이 걸림  \n",
    "* 리스트는 정렬되어 있음 \n",
    "* 리스트 크기 $n$을 $2$로 몇 번 나누어야 $1$이 되는가 \n",
    "\n",
    "    $log_{2}n$ =  number of division"
   ]
  },
  {
   "cell_type": "markdown",
   "id": "d33c7ce1",
   "metadata": {},
   "source": [
    "# 8.2 딕션너리의 내부 구현"
   ]
  },
  {
   "cell_type": "markdown",
   "id": "21c49727",
   "metadata": {},
   "source": [
    "* 딕셔너리는 내부적으로 두 가지 자료 구조로 구현할 수 있음 \n",
    "    1. BST \n",
    "    2. 해시 테이블 "
   ]
  },
  {
   "cell_type": "markdown",
   "id": "c1f51c6b",
   "metadata": {},
   "source": [
    "# 8.3 이진 탐색 트리 "
   ]
  },
  {
   "cell_type": "markdown",
   "id": "cd0e339e",
   "metadata": {},
   "source": [
    "* 이진 탐색 드리는 노드에 데이터를 직접 저장하지 않음\n",
    "* 데이터에 대한 참조만 저장함\n",
    "* 중요한 것은 데이터의 참조를 저장한고 있는 노드를 나타내는 키\n",
    "* 키만 빠르게 검색할 수 있다면 데이터는 참조를 이용해서 바로 접근할 수 있을 것"
   ]
  },
  {
   "cell_type": "code",
   "execution_count": null,
   "id": "f70bf20a",
   "metadata": {},
   "outputs": [],
   "source": [
    "#Binary Search Tree\n",
    "class TreeNode: \n",
    "    def __init__(self,key):\n",
    "        self.__key = key\n",
    "        self.__left = None\n",
    "        self.__right = None\n",
    "        self.__parent = None\n",
    "        \n",
    "    def __del__(self):\n",
    "        print('key {} is deleted'.format(self.__key))\n",
    "        \n",
    "    @property\n",
    "    def key(self):\n",
    "        return self.__key\n",
    "    \n",
    "    @key.setter\n",
    "    def key(self, key):\n",
    "        self.__key = key\n",
    "        \n",
    "    @property\n",
    "    def left(self):\n",
    "        return self.__left\n",
    "    @left.setter\n",
    "    def key(self, left):\n",
    "        self.__left = left\n",
    "        \n",
    "    @property\n",
    "    def right(self):\n",
    "        return self.__right\n",
    "    @right.setter\n",
    "    def key(self,right):\n",
    "        self.__right = right\n",
    "        \n",
    "    @property\n",
    "    def parent(self):\n",
    "        return self.__parent\n",
    "    @parent.setter\n",
    "    def parent(self,p):\n",
    "        self.__parent = p\n",
    "    \n",
    "        "
   ]
  },
  {
   "cell_type": "markdown",
   "id": "0f38e8dd",
   "metadata": {},
   "source": [
    "* 이진 탐색 트리의 정의 :\n",
    "\n",
    "\n",
    "    1. 모든 키는 유일하다\n",
    "    2. 어떤 노드를 특정했을 때 이 노드의 키 값은 왼쪽 서브 트리의 그 어떤 키보다 크다\n",
    "    3. 어떤 노드를 특정했을 때 이 노드의 키 값은 오른쪽 서브 트리의 그 어떤 키 값보다 작다\n",
    "    4. (재귀적 정의) 노드의 서브 트리도 이진 탐색 트리다. "
   ]
  },
  {
   "cell_type": "markdown",
   "id": "5bba41fb",
   "metadata": {},
   "source": [
    "#### ADT of Binary Search Tree\n",
    "\n",
    "**Object**\n",
    "\n",
    "\n",
    "    : 유일한 키 값을 가진 노드 집합 \n",
    "    \n",
    "**Operation**\n",
    "\n",
    "    1. BST.insert(key)\n",
    "        : 새로운 키 삽입\n",
    "        \n",
    "    2. BST.search(target) -> node\n",
    "        : target을 키로 가지는 노드를 찾아 반환\n",
    "        \n",
    "    3. BST.delete(target)\n",
    "        : target을 키로 가지는 노드 삭제 \n",
    "        \n",
    "    4. BST.min(node) -> node\n",
    "        : 매개변수 node를 루트로 하는 이진 탐색 트리에서 가장 작은 key를 가진 노드를 반환\n",
    "        \n",
    "    5. BST.max(node) -> node\n",
    "        : 매개변수 node를 루트로 하는 이진 탐색 트리에서 가장 큰 key를 가진 노드를 반환\n",
    "        \n",
    "    6. BST.prev(cur) -> node\n",
    "        : 정렬된 상태에서 cur 노드의 바로 이전 노드를 찾아 반환\n",
    "        \n",
    "    7. BST.next(cur) -> node\n",
    "        : 정렬된 상태에서 cur 노드의 바로 다음 노드를 찾아 반환"
   ]
  },
  {
   "cell_type": "markdown",
   "id": "3b1c2fa5",
   "metadata": {},
   "source": [
    "# 8.4 이진 탐색 트리의 구현"
   ]
  },
  {
   "cell_type": "code",
   "execution_count": 6,
   "id": "f7bb2f52",
   "metadata": {},
   "outputs": [],
   "source": [
    "class BST:\n",
    "    def __init__(self):\n",
    "        self.root = None\n",
    "        \n",
    "    def get_root(self):\n",
    "        return self.root\n",
    "    \n",
    "    def preorder_traverse(self, cur, func):\n",
    "        if not cur:\n",
    "            return\n",
    "        func(cur)\n",
    "        self.preorder_traverse(cur.left, func)\n",
    "        self.preorder_traverse(cur.right, func)\n",
    "        \n",
    "    #key가 정렬된 상태로 출력\n",
    "    def inorder_traverse(self, cur, func):\n",
    "        if not cur:\n",
    "            return\n",
    "        \n",
    "        self.inorder_traverse(cur.left, func)\n",
    "        func(cur)\n",
    "        self.inorder_traverse(cur.right, func)\n",
    "        \n",
    "    #편의 함수 - cur의 왼쪽 자식을 left로 만든다\n",
    "    def __make_left(self, cur, left):\n",
    "        cur.left = left\n",
    "        if left:\n",
    "            left.parent = cur\n",
    "            \n",
    "    #편의 함수 - cur의 오른쪽 자식을 right로 만든다\n",
    "    def __make_right(self, cur, right):\n",
    "        cur.right = right\n",
    "        if right:\n",
    "            right.parent = cur\n",
    "            \n",
    "    #insert method - new node must be leaf node\n",
    "    def insert(self, key):\n",
    "        new_node = TreeNode(key)\n",
    "        \n",
    "        cur = self.root\n",
    "        if not cur:\n",
    "            self.root = new_node\n",
    "            return\n",
    "        \n",
    "        while True:\n",
    "            parent = cur\n",
    "            if key < cur.left\n",
    "            if not cur:\n",
    "                self.__make_left(parent, new_node):\n",
    "                    return\n",
    "            else:\n",
    "                cur = cur.right\n",
    "                if not cur:\n",
    "                    self.__make_right(parent, new_node)\n",
    "                    return\n",
    "                \n",
    "                \n",
    "    #target이 있다면 cur를 루트부터 아래로 쭉 훑으면서 비교하여 target을 찾음            \n",
    "    def search(self, target):\n",
    "        cur = self.root\n",
    "        while cur:\n",
    "            if cur.key == target:\n",
    "                return cur\n",
    "            elif cur.key > target:\n",
    "                cur = cur.left\n",
    "            elif cur.key < target :\n",
    "                cur = cur.right\n",
    "        return cur\n",
    "    \n",
    "    def __delete_recursion(self, cur, target):\n",
    "        if no cur:\n",
    "            return None\n",
    "        elif target < cur.key:\n",
    "            new_left = self.__delete_recursion(cur.left,target)\n",
    "            self.__make_left(cur, new_left)\n",
    "        elif target > cur.key:\n",
    "            new_right = self.__delete_recrusion(cur.right,target)\n",
    "            self.__make_right(cur, new_right)\n",
    "        else:\n",
    "            if not cur.left and not cur.right:\n",
    "                cur = None\n",
    "            elif not cur.right:\n",
    "                cur = cur.left\n",
    "            elif not cur.left:\n",
    "                cur = cur.right\n",
    "            else: #노드 자식이 둘일 대 \n",
    "                replace = cur.left\n",
    "                replace = self.max(replace)\n",
    "                cur.key, replace.key = replace.key, cur.key \n",
    "                new_left = self.__delete_recursion(cur.left, replace.key)\n",
    "                self.__make_left(cur, new_left)\n",
    "        return cur\n",
    "        \n",
    "    def delete(self,target):\n",
    "        new_root = self.__delete_recursion(self.root, target)\n",
    "        self.root = new_root"
   ]
  },
  {
   "cell_type": "code",
   "execution_count": null,
   "id": "6399fe46",
   "metadata": {},
   "outputs": [],
   "source": []
  },
  {
   "cell_type": "code",
   "execution_count": null,
   "id": "a59dc9d1",
   "metadata": {},
   "outputs": [],
   "source": []
  },
  {
   "cell_type": "code",
   "execution_count": null,
   "id": "c87bb645",
   "metadata": {},
   "outputs": [],
   "source": []
  },
  {
   "cell_type": "code",
   "execution_count": null,
   "id": "1044cead",
   "metadata": {},
   "outputs": [],
   "source": []
  },
  {
   "cell_type": "code",
   "execution_count": null,
   "id": "12f7038e",
   "metadata": {},
   "outputs": [],
   "source": []
  },
  {
   "cell_type": "code",
   "execution_count": null,
   "id": "bb68059b",
   "metadata": {},
   "outputs": [],
   "source": []
  },
  {
   "cell_type": "code",
   "execution_count": null,
   "id": "40798cf5",
   "metadata": {},
   "outputs": [],
   "source": []
  }
 ],
 "metadata": {
  "kernelspec": {
   "display_name": "Python 3 (ipykernel)",
   "language": "python",
   "name": "python3"
  },
  "language_info": {
   "codemirror_mode": {
    "name": "ipython",
    "version": 3
   },
   "file_extension": ".py",
   "mimetype": "text/x-python",
   "name": "python",
   "nbconvert_exporter": "python",
   "pygments_lexer": "ipython3",
   "version": "3.9.7"
  }
 },
 "nbformat": 4,
 "nbformat_minor": 5
}
