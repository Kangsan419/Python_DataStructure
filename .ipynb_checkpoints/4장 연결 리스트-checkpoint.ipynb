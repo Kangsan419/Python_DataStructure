{
 "cells": [
  {
   "cell_type": "markdown",
   "id": "00d8fe94",
   "metadata": {},
   "source": [
    "# 4.1 연결 리스트 이해하기"
   ]
  },
  {
   "cell_type": "markdown",
   "id": "fa218e6b",
   "metadata": {},
   "source": [
    "#### Linked List : 요소들이 참조로 이여져 있다\n",
    "    : 각 요소는 Node라는 틀에 담겨 있다 \n",
    "    : Node의 구성 요소\n",
    "        - data\n",
    "        - Link : points to next element \n",
    "    \n",
    "    \n",
    "    \n",
    "* **Single Linked List** - 다음 노드를 가리키는 참조 하나만 가지고 있음 \n",
    "* **Double Linked List** - 앞 노드를 가리키는 참조와 뒤 노드를 가리키는 참조를 모두 가지고 있음 "
   ]
  },
  {
   "cell_type": "markdown",
   "id": "521a6e63",
   "metadata": {},
   "source": [
    "## Linked List 삽입 and 삭제\n",
    "* 삽입하고자 하는 구역의 link 수정 \n",
    "\n",
    "    linkedlist = [1:link1 -> 2:link2 -> 3:link3] <br/>\n",
    "    add -> [4:link4] between 1 and 2 <br/>\n",
    "    **edit** -> link1 and link4\n",
    "    \n",
    "    \n",
    "성능 : $O(1)$\n",
    "\n",
    "\n",
    "* 삭제하고자 하는 node를 빼고 link 이어주기 \n",
    "\n",
    "    linkedlist = [1:link1 -> 4:link4 -> 2;link2 -> 3:link3] <br/>\n",
    "    delete -> [4:link4] <br/>\n",
    "    **edit** -> link1\n",
    "    \n",
    "성능 : $O(1)$"
   ]
  },
  {
   "cell_type": "markdown",
   "id": "4bf56382",
   "metadata": {},
   "source": [
    "## Linked List의 Indexing\n",
    "\n",
    "* linked list는 인덱싱과 같은 연산 구현 불가 \n",
    "* 하나씩 확인해야 함 \n",
    "\n",
    "성능 : $O(n)$"
   ]
  },
  {
   "cell_type": "markdown",
   "id": "c48e3a1a",
   "metadata": {},
   "source": [
    "# 4.2 동적 배열과 연결 리스트"
   ]
  },
  {
   "cell_type": "markdown",
   "id": "2554d3e6",
   "metadata": {},
   "source": [
    "||동적 배열|연결 리스트|\n",
    "|:---:|:---:|:---:|\n",
    "|삽입 및 삭제|$O(n)$|$O(n)$|\n",
    "|탐색|$O(1)$|$O(n)$|"
   ]
  },
  {
   "cell_type": "markdown",
   "id": "51715125",
   "metadata": {},
   "source": [
    "### 1. 삽입 및 삭제 \n",
    "* 동적 배열 : append() 경우를 제외하고 $O(n)$ 성능을 보임 \n",
    "* 연결 리스트 : 연산 상수 한번 만으로도 추가 및 삭제 가능 $O(n)$"
   ]
  },
  {
   "cell_type": "markdown",
   "id": "d5699b34",
   "metadata": {},
   "source": [
    "### 2. 탐색 \n",
    "* 동적 배열 : indexing이라는 연산으로 한번에 데이터 접근 가능 $O(1)$\n",
    "* 연결 리스트 : 처음 부터 모든 node 순회 $O(n)$"
   ]
  },
  {
   "cell_type": "markdown",
   "id": "6cac497a",
   "metadata": {},
   "source": [
    "# 4.3 더미 이중 연결 리스트"
   ]
  },
  {
   "cell_type": "markdown",
   "id": "289d8384",
   "metadata": {},
   "source": [
    "#### 보통 연결 리스트라고 하면 Dummy double linked list"
   ]
  },
  {
   "cell_type": "markdown",
   "id": "8f9d0949",
   "metadata": {},
   "source": [
    "#### Dummy Double Linked List\n",
    "<br/>\n",
    "\n",
    "**Object** : \n",
    "\n",
    "    순서 있는 원소의 유한 집합  \n",
    "\n",
    "**Operation** :\n",
    "\n",
    "    1. empty() -> Boolean \n",
    "        : 비어 있으면 True, 아니면 False\n",
    "        \n",
    "    2. size() -> Integer\n",
    "        : 요소 개수 반환  \n",
    "        \n",
    "    3. add_first(data)\n",
    "        : data를 리스트의 맨 앞에 추가 \n",
    "        \n",
    "    4. add_last(data)\n",
    "        : data를 리스트의 맨 마지막에 추가 \n",
    "        \n",
    "    5. insert_after(data,node) \n",
    "        : data를 node 다음에 삽입\n",
    "    \n",
    "    6. insert_before(data,node)\n",
    "        : data를 node 이전에 삽입 \n",
    "        \n",
    "    7. search_forward(target) -> node\n",
    "        : target을 리스트의 맨 처음부터 찾아 나가다 리스트에 있으면 노드 반환, 그렇지 않으면 None 반환\n",
    "        \n",
    "    8. search_backward(target) -> node \n",
    "        : target을 리스트의 맨 마지막부터 찾아 나가다 리스트에 있으면 노드 반환, 그렇지 않으면 None 반환 \n",
    "        \n",
    "    9. delete_first()\n",
    "        : 리스트의 첫 번째 요소 삭제 \n",
    "        \n",
    "    10. delete_last()\n",
    "        : 리스트의 마지막 요소 삭제 \n",
    "        \n",
    "    11. delete_node(node)\n",
    "        : node 삭제 "
   ]
  },
  {
   "cell_type": "code",
   "execution_count": null,
   "id": "6a697e80",
   "metadata": {},
   "outputs": [],
   "source": [
    "class Node: \n",
    "    def __init__(self,data=None):\n",
    "        self.__data = data\n",
    "        self.__prev = None\n",
    "        self.__next = None\n",
    "        \n",
    "#소멸자 : 객체가 사라지기 전 반드시 호출\n",
    "#삭제 연산 때 삭제되는 것을 확인하고자 작성\n"
   ]
  }
 ],
 "metadata": {
  "kernelspec": {
   "display_name": "Python 3 (ipykernel)",
   "language": "python",
   "name": "python3"
  },
  "language_info": {
   "codemirror_mode": {
    "name": "ipython",
    "version": 3
   },
   "file_extension": ".py",
   "mimetype": "text/x-python",
   "name": "python",
   "nbconvert_exporter": "python",
   "pygments_lexer": "ipython3",
   "version": "3.9.7"
  }
 },
 "nbformat": 4,
 "nbformat_minor": 5
}
