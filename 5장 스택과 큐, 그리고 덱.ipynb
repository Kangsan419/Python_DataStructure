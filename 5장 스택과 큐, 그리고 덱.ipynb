{
 "cells": [
  {
   "cell_type": "markdown",
   "id": "fa0eb73b",
   "metadata": {},
   "source": [
    "# 5.1 스택 : 데이터를 차곡차곡 쌓는다"
   ]
  },
  {
   "cell_type": "markdown",
   "id": "6d70e8b7",
   "metadata": {},
   "source": [
    "### Stack : Last In First Out \n",
    "* 맨 마지막에 들어오 데이터가 맨 처음 나가게 된다. "
   ]
  },
  {
   "cell_type": "markdown",
   "id": "780cde8c",
   "metadata": {},
   "source": [
    "## Stack ADT"
   ]
  },
  {
   "cell_type": "markdown",
   "id": "7d951298",
   "metadata": {},
   "source": [
    "### Stack\n",
    "\n",
    "\n",
    "\n",
    "**Object**\n",
    "\n",
    "    : LIFO 객체 \n",
    "    \n",
    "    \n",
    "    \n",
    "**operation**\n",
    "\n",
    "    1. empty() -> Boolean\n",
    "        : 스택이 비어 있으면 TRUE, 아니면 FALSE 반환 \n",
    "        \n",
    "    2. push(data)\n",
    "        : data를 스택의 맨 위에 삽입 \n",
    "        \n",
    "    3. pop() -> element\n",
    "        : 스택의 맨 위에 있는 데이터를 삭제하며 반환 \n",
    "        \n",
    "    4. peek() -> element \n",
    "        : 스택의 맨 위에 있는 데이터를 반환만 함 "
   ]
  },
  {
   "cell_type": "markdown",
   "id": "0004525d",
   "metadata": {},
   "source": [
    "## 5.1.1 스택 구현 : 동적 배열을 이용 "
   ]
  },
  {
   "cell_type": "markdown",
   "id": "80884da6",
   "metadata": {},
   "source": [
    "#### 파이썬에는 Stack 모듈이 없음\n",
    "* push() -> list.append()\n",
    "* pop() -> list.pop\n",
    "\n",
    "**아무런 추상화 없이 리스트를 스택으로 사용한다면 가독성은 매우 떨어지기에** ***동적 배열 리스트인지*** **혹은** ***스택의 리스트인지*** **잘 파악해야 한다**\n"
   ]
  },
  {
   "cell_type": "code",
   "execution_count": 5,
   "id": "d2b4f8c9",
   "metadata": {},
   "outputs": [
    {
     "name": "stdout",
     "output_type": "stream",
     "text": [
      "54321"
     ]
    }
   ],
   "source": [
    "#stack \n",
    "class Stack:\n",
    "    def __init__(self):\n",
    "        self.container = list()\n",
    "        \n",
    "    def empty(self):\n",
    "        #실제 데이터를 담을 객체는 동적 배열 \n",
    "        if not self.container:\n",
    "            return True\n",
    "        else:\n",
    "            return False\n",
    "    \n",
    "    def push(self,data):\n",
    "        self.container.append(data)\n",
    "    \n",
    "    def pop(self):\n",
    "        if self.empty():\n",
    "            return None\n",
    "        return self.container.pop()\n",
    "    def peek(self):\n",
    "        if self.empty():\n",
    "            return None\n",
    "        return self.container[-1]\n",
    "    \n",
    "    \n",
    "s = Stack()\n",
    "\n",
    "s.push(1)\n",
    "s.push(2)\n",
    "s.push(3)\n",
    "s.push(4)\n",
    "s.push(5)\n",
    "\n",
    "while not s.empty():\n",
    "    print(s.pop(), end = '')"
   ]
  },
  {
   "cell_type": "markdown",
   "id": "766b5952",
   "metadata": {},
   "source": [
    "# 5.2 큐 : 데이터로 줄 세우기 "
   ]
  },
  {
   "cell_type": "markdown",
   "id": "999b8ec7",
   "metadata": {},
   "source": [
    "### Queue : Fist In First Out \n",
    "* 먼저 들어온 데이터가 먼저 나간다 "
   ]
  },
  {
   "cell_type": "markdown",
   "id": "b38686e1",
   "metadata": {},
   "source": [
    "### Queue\n",
    "\n",
    "\n",
    "\n",
    "**Object**\n",
    "\n",
    "    : FIFO 객체 \n",
    "    \n",
    "    \n",
    "    \n",
    "**operation**\n",
    "\n",
    "    1. is_empty() -> Boolean\n",
    "        : 큐가 비어 있으면 TRUE, 아니면 FALSE 반환 \n",
    "        \n",
    "    2. is_full() -> Boolean\n",
    "        : 큐가 가득 찼으면 TRUE, 아니면 FALSE 반환 \n",
    "        \n",
    "    3. enqueue(data) \n",
    "        : 큐의 맨 뒤에 데이터 삽입 \n",
    "        \n",
    "    4. dequeue() -> element \n",
    "        : 큐의 맨 처음 데이터를 삭제하면서 반환\n",
    "        \n",
    "    5. peek() -> element\n",
    "        : 큐의 맨 처음 데이터를 삭제하지 않고 반환만 함 "
   ]
  },
  {
   "cell_type": "markdown",
   "id": "728df9ec",
   "metadata": {},
   "source": [
    "## 5.2.1 큐 구현 "
   ]
  },
  {
   "cell_type": "markdown",
   "id": "03a3d937",
   "metadata": {},
   "source": [
    "### 1. 동적 배열을 단순하게 사용해서 구현하기"
   ]
  },
  {
   "cell_type": "code",
   "execution_count": 8,
   "id": "24d418e2",
   "metadata": {},
   "outputs": [],
   "source": [
    "#Queue with Dynamic array \n",
    "\n",
    "class Queue : \n",
    "    def __init__(self):\n",
    "        self.container = list()\n",
    "        \n",
    "    def empty(self):\n",
    "        if not self.container:\n",
    "            return True\n",
    "        else:\n",
    "            return False\n",
    "        \n",
    "    def enqueue(self, data):\n",
    "        self.container.append(data)\n",
    "        \n",
    "    def dequeue(self):\n",
    "        #첫 data를 삭제한 후 모든 데이터를 옮겨야 해서 O(n)이 된다. \n",
    "        return self.container.pop(0)\n",
    "\n",
    "    def peek(self):\n",
    "        return self.container[0]\n",
    "    \n"
   ]
  },
  {
   "cell_type": "markdown",
   "id": "5e8ecbdd",
   "metadata": {},
   "source": [
    "### 2. 원형 큐로 구현하기"
   ]
  },
  {
   "cell_type": "markdown",
   "id": "87e3a960",
   "metadata": {},
   "source": [
    "### Circular Queue - 선형으로 이어져 있는 동적 배열을 원형처럼 사용"
   ]
  },
  {
   "cell_type": "markdown",
   "id": "8693fe38",
   "metadata": {},
   "source": [
    "* 기존 Queue의 단점 :\n",
    "    * dequeue 연산 마다 모든 데이터를 한 번씩 이동\n",
    "    * 이를 해결하기 위해 front를 뒤로 이동하면 되는데, 이는 Queue가 비어있음에도 가득 찼다고 판단하게 됨\n",
    "\n",
    "\n",
    "* 이를 Circular Queue로 이어서 사용하면, rear가 맨 마지막에 도달해도 동적 배열의 맨 처음을 가리키게 하여 빈 공간을 사용할 수 있게 된다\n",
    "\n",
    "* Circular Queue의 빈 공간 여부를 확인하기 위해 rear를 실제 데이터의 마지막 다음을 가리키게 하는 것이 중요하다. \n",
    "    * CQ empty : front == rear\n",
    "    * CQ not empty : front == rear + 1"
   ]
  },
  {
   "cell_type": "code",
   "execution_count": 11,
   "id": "e1dbc889",
   "metadata": {},
   "outputs": [],
   "source": [
    "#Circular Queue \n",
    "class CQueue: \n",
    "    max = 10 \n",
    "    \n",
    "    def __init__(self):\n",
    "        self.container = [None for _ in range(CQueue.max)]\n",
    "        self.front = 0\n",
    "        self.rear = 0 \n",
    "        \n",
    "    def is_empty(self):\n",
    "        if self.front == self.rear:\n",
    "            return True\n",
    "        return False\n",
    "    \n",
    "    #front 나 rear의 이동을 돕는다\n",
    "    def __step_forward(self,x):\n",
    "        x += 1\n",
    "        if x >= CQueue.max:\n",
    "            x = 0\n",
    "        return x\n",
    "    \n",
    "    #원형 큐 가득 찼는지 확인 \n",
    "    def is_full(self):\n",
    "        next = self.__step_forward(self.rear)\n",
    "        if next == self.front:\n",
    "            return True\n",
    "        return False\n",
    "    \n",
    "    def enqueue(self,data):\n",
    "        if self.is_full():\n",
    "            raise Exception(\"The queue is full\")\n",
    "        self.container[self.rear] = data\n",
    "        self.rear = self.__step_forward(self.rear)\n",
    "    \n",
    "    #삭제된 데이터를 반환해야 하기 때문에 ret 변수에 삭제될 요소를 담고 front는 뒤로, ret은 반환\n",
    "    def dequeue(self):\n",
    "        if self.is_empty():\n",
    "            raise Exception(\"The queue is empty\")\n",
    "        ret = self.container[self.front]\n",
    "        self.front = self.__step_forward(self.front)\n",
    "        return ret\n",
    "    \n",
    "    #front의 요소 반환 \n",
    "    def peek(self):\n",
    "        if self.is_empty():\n",
    "            raise Exception(\"The queue is empty\")\n",
    "        return self.container[self.front]\n",
    "    \n",
    "    \n",
    "    "
   ]
  },
  {
   "cell_type": "code",
   "execution_count": 14,
   "id": "c3058f3c",
   "metadata": {},
   "outputs": [
    {
     "name": "stdout",
     "output_type": "stream",
     "text": [
      "0 1 2 3 4 5 6 7 8 9 10 11 12 13 \n",
      "10 11 12 13 4 5 6 7 8 9 "
     ]
    }
   ],
   "source": [
    "#Circular Queue Test\n",
    "cq = CQueue()\n",
    "\n",
    "for i in range(8):\n",
    "    cq.enqueue(i)\n",
    "    \n",
    "for i in range(5):\n",
    "    print(cq.dequeue(), end = ' ')\n",
    "    \n",
    "for i in range(8,14):\n",
    "    cq.enqueue(i)\n",
    "    \n",
    "while not cq.is_empty():\n",
    "    print(cq.dequeue(),end=' ')\n",
    "    \n",
    "print()\n",
    "for i in range(10):\n",
    "    print(cq.container[i], end=' ')"
   ]
  },
  {
   "cell_type": "markdown",
   "id": "93d08157",
   "metadata": {},
   "source": [
    "# 5.3 덱 : 스택으로도 큐로도 사용할 수 있음"
   ]
  },
  {
   "cell_type": "markdown",
   "id": "76f8e7bd",
   "metadata": {},
   "source": [
    "### Deque : Double-Ended Queue "
   ]
  },
  {
   "cell_type": "markdown",
   "id": "8498599c",
   "metadata": {},
   "source": [
    "* 스택은 top이 있는 방향으로만 데이터 입출력 가능\n",
    "* 큐 front가 있는 방향에 데이터 출력, rear가 있는 방향으로 데이터 입력 \n",
    "\n",
    "####  ➡️ 덱은  front와 rear에서 입출력 가능 "
   ]
  },
  {
   "cell_type": "markdown",
   "id": "694252e7",
   "metadata": {},
   "source": [
    "### Deque \n",
    "\n",
    "**operation**\n",
    "\n",
    "    1. is_empty() -> Boolean\n",
    "        : 덱이 비어 있으면 TRUE, 아니면 FALSE 반환 \n",
    "        \n",
    "    2. is_full() -> Boolean\n",
    "        : 덱이 가득 찼으면 TRUE, 아니면 FALSE 반환 \n",
    "        \n",
    "    3. insertFront(data) \n",
    "        : 덱의 맨 뒤에 데이터 삽입 \n",
    "        \n",
    "    4. insertRear(data)\n",
    "        : 덱의 맨 뒤에 데이터 삽입\n",
    "        \n",
    "    5. popFront() -> element\n",
    "        : 덱의 맨 처음 데이터를 삭제하면서 반환 \n",
    "        \n",
    "    6. popRear() -> element \n",
    "        : 덱의 맨 마지막 데이터를 삭제하면서 반환 \n",
    "        \n",
    "    7. peekFront() -> element \n",
    "        : 덱의 맨 처음 데이터를 삭제하지 않고 반환만 함 \n",
    "        \n",
    "    8. peekRear() -> element\n",
    "        : 덱의 맨 마지막 데이터를 삭제하지 않고 반환만 함 "
   ]
  },
  {
   "cell_type": "code",
   "execution_count": 18,
   "id": "4d109e54",
   "metadata": {},
   "outputs": [
    {
     "name": "stdout",
     "output_type": "stream",
     "text": [
      "********************STACK********************\n",
      "deque([1])\n",
      "deque([1, 2])\n",
      "deque([1, 2, 3])\n",
      "deque([1, 2, 3, 4])\n",
      "deque([1, 2, 3, 4, 5])\n",
      "5\n",
      "4\n",
      "3\n",
      "2\n",
      "1\n",
      "********************QUEUE********************\n",
      "deque([1])\n",
      "deque([1, 2])\n",
      "deque([1, 2, 3])\n",
      "deque([1, 2, 3, 4])\n",
      "deque([1, 2, 3, 4, 5])\n",
      "1\n",
      "2\n",
      "3\n",
      "4\n",
      "5\n"
     ]
    }
   ],
   "source": [
    "#deque\n",
    "from collections import deque\n",
    "\n",
    "print('*' * 20 + 'STACK' + '*' * 20)\n",
    "stack = deque()\n",
    "for i in range(1,6):\n",
    "    stack.append(i)\n",
    "    print(stack)\n",
    "    \n",
    "for i in range(5):\n",
    "    print(stack.pop())\n",
    "    \n",
    "print('*' * 20 + 'QUEUE' + '*' * 20)\n",
    "queue = deque()\n",
    "for i in range(1,6):\n",
    "    queue.append(i)\n",
    "    print(queue)\n",
    "    \n",
    "for i in range(5):\n",
    "    print(queue.popleft())\n",
    "    "
   ]
  }
 ],
 "metadata": {
  "kernelspec": {
   "display_name": "Python 3 (ipykernel)",
   "language": "python",
   "name": "python3"
  },
  "language_info": {
   "codemirror_mode": {
    "name": "ipython",
    "version": 3
   },
   "file_extension": ".py",
   "mimetype": "text/x-python",
   "name": "python",
   "nbconvert_exporter": "python",
   "pygments_lexer": "ipython3",
   "version": "3.9.7"
  }
 },
 "nbformat": 4,
 "nbformat_minor": 5
}
