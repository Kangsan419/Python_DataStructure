{
 "cells": [
  {
   "cell_type": "markdown",
   "id": "092f5fc9",
   "metadata": {},
   "source": [
    "# 2.1 자료 구조 성능 : big-O"
   ]
  },
  {
   "cell_type": "markdown",
   "id": "14a50160",
   "metadata": {},
   "source": [
    "## 2.1.1 알고리즘 성능 분석"
   ]
  },
  {
   "cell_type": "markdown",
   "id": "b8228f8b",
   "metadata": {},
   "source": [
    "#### 알고리즘의 성능 분석 하기 위한 방법  :\n",
    "* 절대 평가 \n",
    "    * 비교하고자 하는 함수들이 같은 환경에서 구현되어야 하는 한계가 있음 \n",
    "* 상대 평가\n",
    "    * 실행 환경과 무관하게 성능을 평가할 수 있음"
   ]
  },
  {
   "cell_type": "code",
   "execution_count": 4,
   "id": "b7fcf136",
   "metadata": {},
   "outputs": [
    {
     "name": "stdout",
     "output_type": "stream",
     "text": [
      "25\n"
     ]
    }
   ],
   "source": [
    "#operation count\n",
    "#inint + arr의 모든 값 더하는 function\n",
    "\n",
    "                            #연산    빈도수\n",
    "def func(arr,init):\n",
    "    n = len(arr)            # 1       1\n",
    "    ret = init              # 1       1\n",
    "    for i in range(n):      # 1       n\n",
    "        ret += arr[i]       # 1       n\n",
    "    return ret              # 1       1\n",
    "                            #        2n+3\n",
    "arr = [1,2,3,4,5]\n",
    "result = func(arr,10)\n",
    "print(result)"
   ]
  },
  {
   "cell_type": "markdown",
   "id": "d3910b4d",
   "metadata": {},
   "source": [
    "## 2.1.2 성능을 비교하는 방법 : 빅오"
   ]
  },
  {
   "cell_type": "markdown",
   "id": "f722965b",
   "metadata": {},
   "source": [
    "#### 정의 \n",
    "\n",
    "> 모든 $n>n_{0}$에 대해 $0 <= f(n) <= cg(n)$인 양의 상수 $c$, $n_{0}$ 가 존재하면,\n",
    "         **$f(n) = O(g(n))$** \n",
    "\n",
    "          \n",
    "* 빅오는 Upper Bound를 의미한다\n",
    "* $f(n)$이 $n_{0}$ 이상에서 그래프의 증가 추세가 절대 $cg(n) = cn$을 넘지 않는다는 것을 보여준다. "
   ]
  },
  {
   "cell_type": "markdown",
   "id": "d1ad0b95",
   "metadata": {},
   "source": [
    "#### 대표적인 big-O \n",
    "\n",
    "1. $O(1)$\n",
    "2. $O(log\\,n)$\n",
    "3. $O(n)$\n",
    "4. $O(nlog\\,n)$\n",
    "5. $O(n^2), O(n^3)$\n",
    "6. $O(2^n)$ \n",
    "\n",
    "link : https://thebook.io/080200/ch02/01/02-03/"
   ]
  },
  {
   "cell_type": "markdown",
   "id": "4cee546e",
   "metadata": {},
   "source": [
    "## 2.1.3 big - O 의 한계"
   ]
  },
  {
   "cell_type": "markdown",
   "id": "2c3c4d0c",
   "metadata": {},
   "source": [
    "* 연산 횟수를 계산하는 상대 평가이기에 하드웨어적인 요소를 고려하지 않음"
   ]
  },
  {
   "cell_type": "markdown",
   "id": "58fff8ac",
   "metadata": {},
   "source": []
  },
  {
   "cell_type": "markdown",
   "id": "02437dd2",
   "metadata": {},
   "source": [
    "# 2.2 Abstract Data Type, ADT "
   ]
  },
  {
   "cell_type": "markdown",
   "id": "b75bde1e",
   "metadata": {},
   "source": [
    "#### Data Type Definition :\n",
    "> 데이터 타입이란 데이터를 저장하는 객체(object)와 객체가 할 수 있는 연산(operation)의 집합\n",
    "\n",
    "* Object - 데이터 타입이 나타낼 수 있는 모든 값의 집합 (due to limitation of memory not every number types can be printed) \n",
    "* Operation - 객체 지향적으로 설계된 자료구조에 데이터를 실제로 저장할 객체와 이 객체 위에서 작동할 메서드를 가지는데, 메서드를 연산이라고 함. \n",
    "    * 연산을 명세할 때는 메서드 이름과, 매개변수, 반환값을 반드시 표기해야 한다."
   ]
  },
  {
   "cell_type": "markdown",
   "id": "3adb6e0e",
   "metadata": {},
   "source": [
    "#### ADT : \n",
    "> 객체와 연산의 명세에서 객체 표현이나 연산 구현으르 감춘 것을 의미한다.\n",
    "\n",
    "* 표현(representaion)이란 어떤 객체를 내부적으로 어떻게 저장할지 고민하는 것\n",
    "* C 언어는 프로그래머가 직접 메모리 크기를 지정해 주지만, 파이썬은 자료형이 없어 실제 메모리에서 어떤 크기로 저장되는지 감추어져 있다. -> Abstraction\n",
    "\n",
    "* 연산을 명세할 때 함수 이름과 매개변수, 반환값만 표기할 뿐 내부적으로 어떻게 구현(implementaion)했는지 감춘다."
   ]
  },
  {
   "cell_type": "code",
   "execution_count": null,
   "id": "ce9695a6",
   "metadata": {},
   "outputs": [],
   "source": []
  }
 ],
 "metadata": {
  "kernelspec": {
   "display_name": "Python 3 (ipykernel)",
   "language": "python",
   "name": "python3"
  },
  "language_info": {
   "codemirror_mode": {
    "name": "ipython",
    "version": 3
   },
   "file_extension": ".py",
   "mimetype": "text/x-python",
   "name": "python",
   "nbconvert_exporter": "python",
   "pygments_lexer": "ipython3",
   "version": "3.9.7"
  }
 },
 "nbformat": 4,
 "nbformat_minor": 5
}
