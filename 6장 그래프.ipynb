{
 "cells": [
  {
   "cell_type": "markdown",
   "id": "7e40aefd",
   "metadata": {},
   "source": [
    "# 6.1 그래프 용어 정리"
   ]
  },
  {
   "cell_type": "markdown",
   "id": "f6ffc7df",
   "metadata": {},
   "source": [
    "### 그래프 \n",
    "\n",
    "\n",
    "* 정점 (Vertex)의 집합 V(G) \n",
    "* 에지 (Edge)의 집합 E(G) \n",
    "\n",
    "\n",
    "* 다음과 같이 표기 함\n",
    "\n",
    "$$G = (V,E)$$ "
   ]
  },
  {
   "cell_type": "markdown",
   "id": "ae5690fe",
   "metadata": {},
   "source": [
    "### Undirected Graph "
   ]
  },
  {
   "cell_type": "markdown",
   "id": "15f7cc50",
   "metadata": {},
   "source": [
    "<img src = \"img/undirectedgraph.png\" width = \"50%\" height = \"50%\">"
   ]
  },
  {
   "cell_type": "markdown",
   "id": "591cf5df",
   "metadata": {},
   "source": [
    "$$ G = (V,E)$$\n",
    "\n",
    "\n",
    "$$ V(G) = \\{0,1,2,3\\}$$\n",
    "\n",
    "$$ E(G) = \\{(0,1),(0,2),(0,3),(2,3)\\} $$"
   ]
  },
  {
   "cell_type": "markdown",
   "id": "29a4c8c8",
   "metadata": {},
   "source": [
    "* 무방향 그래프는 (1,0) 과 (0,1)이 같음 \n",
    "\n",
    "\n",
    "* 무방향 그래프의 정점 개수가 n개라면 ➡️ 그래프의 최대 에지 개수 :\n",
    "\n",
    "$$n*(n-1)/2$$"
   ]
  },
  {
   "cell_type": "markdown",
   "id": "59bbafcd",
   "metadata": {},
   "source": [
    "### Directed Graph"
   ]
  },
  {
   "cell_type": "markdown",
   "id": "ee1de5a3",
   "metadata": {},
   "source": [
    "<img src = \"img/directedgraph.png\" width = \"50%\" height = \"50%\">"
   ]
  },
  {
   "cell_type": "markdown",
   "id": "83cd15dc",
   "metadata": {},
   "source": [
    "$$ G = (V,E)$$\n",
    "\n",
    "\n",
    "$$ V(G) = \\{0,1,2,3\\}$$\n",
    "\n",
    "$$ E(G) = \\{<0,1>,<0,2>,<1,2>,<2,3>,<3,2>\\} $$"
   ]
  },
  {
   "cell_type": "markdown",
   "id": "d428bbc3",
   "metadata": {},
   "source": [
    "* Directed Graph에는 tail과 head가 있다.\n",
    "\n",
    "    $$ <tail, head>$$\n",
    "    \n",
    "    \n",
    "$$ <2,3> != <3,2>$$\n",
    "    \n",
    "    \n",
    "* 방향 그래프의 정점 개수가 n개라면 ➡️ 최대 Edge # :\n",
    "\n",
    "$$n*(n-1)$$"
   ]
  },
  {
   "cell_type": "markdown",
   "id": "ba12e0df",
   "metadata": {},
   "source": [
    "### Self-Edge Graph"
   ]
  },
  {
   "cell_type": "markdown",
   "id": "496e63b9",
   "metadata": {},
   "source": [
    "<img src = \"img/selfedge.png\" width = \"50%\" height = \"50%\">"
   ]
  },
  {
   "cell_type": "markdown",
   "id": "39129889",
   "metadata": {},
   "source": [
    "* tail과 head가 같은 값일 때 "
   ]
  },
  {
   "cell_type": "markdown",
   "id": "5da83830",
   "metadata": {},
   "source": [
    "### Multi-Graph"
   ]
  },
  {
   "cell_type": "markdown",
   "id": "eebf2203",
   "metadata": {},
   "source": [
    "<img src = \"img/multigraph.png\" width = \"50%\" height = \"50%\">"
   ]
  },
  {
   "cell_type": "markdown",
   "id": "a67de1b8",
   "metadata": {},
   "source": [
    "* 중복 에지를 인정하는 자료구조"
   ]
  },
  {
   "cell_type": "markdown",
   "id": "462cac99",
   "metadata": {},
   "source": [
    "### Adjacent"
   ]
  },
  {
   "cell_type": "markdown",
   "id": "c88e5872",
   "metadata": {},
   "source": [
    "<img src = \"img/adjacent.png\" width =\"50%\" height=\"50%\" >"
   ]
  },
  {
   "cell_type": "markdown",
   "id": "33670f0b",
   "metadata": {},
   "source": [
    "* 정점 $u$와 정점 $v$ 사이에 에지 $(u,v)$가 있을 때 $u$와 $v$는 서로 인접한다고 함\n",
    "\n",
    "$u \\in V(G)$\n",
    "\n",
    "\n",
    "$v \\in V(G)$\n",
    "\n",
    "\n",
    "$(u,v) \\in E(G)$\n",
    "\n",
    "\n",
    "$u$ and $v$ is adjacent"
   ]
  },
  {
   "cell_type": "markdown",
   "id": "5fe94303",
   "metadata": {},
   "source": [
    "### Path"
   ]
  },
  {
   "cell_type": "markdown",
   "id": "268af0d4",
   "metadata": {},
   "source": [
    "<img src = \"img/path.png\" width = \"50%\" height = \"50%\">"
   ]
  },
  {
   "cell_type": "markdown",
   "id": "f04dcb75",
   "metadata": {},
   "source": [
    "* 경로란 $(v_{1},v_{2}),(v_{2},v_{3}),(v_{3},v_{4})$가 집합 $E(G)$의 원소일 때, $v_{1}$ 부터 $v_{4}$ 까지 정점 순서 $v_{1}$ ➡️ $v_{2}$ ➡️ $v_{3}$ ➡️ $v_{4}$를 의미함\n",
    "\n",
    "* 이때 경로의 수는 에지 개수 \n",
    "\n",
    "#### Simple path \n",
    "* 어떤 경로에서 처음과 마지막을 제외하고 모든 정점이 다를 때를 의미 \n",
    "\n",
    "#### Cycle \n",
    "* 단순 경로에서 처음과 마지막 정점이 같은 것 \n",
    "* 그림에서는 $v_{2}$ ➡️ $v_{3}$ ➡️ $v_{4}$ ➡️ $v_{2}$이 사이클 "
   ]
  },
  {
   "cell_type": "markdown",
   "id": "e89e3b6b",
   "metadata": {},
   "source": [
    "### Connect Graph"
   ]
  },
  {
   "cell_type": "markdown",
   "id": "eec902f5",
   "metadata": {},
   "source": [
    "<img src = \"img/connected.png\" width =\"70%\" height = \"70%\">"
   ]
  },
  {
   "cell_type": "markdown",
   "id": "dbc467de",
   "metadata": {},
   "source": [
    "* 어떤 임의의 정점 $u$와 다른 어떤 임의의 정점 $v$를 골랐을 때 정점 사이에 경로가 있으면 연결되었다고 한다.\n",
    "\n",
    "* 임의의 두 정점을 골랐을 때 모든 경웨 연결된 그래프 "
   ]
  },
  {
   "cell_type": "markdown",
   "id": "6c9c4809",
   "metadata": {},
   "source": [
    "$$ G = (V,E)$$\n",
    "\n",
    "$$ V(G) = \\{0,1,2,3,4,5,6,7\\}$$\n",
    "\n",
    "$$ E(G) = \\{(0,3),(0,4),(1,2),(1,5),(2,5),(3,4),(4,6),(5,7)\\} $$"
   ]
  },
  {
   "cell_type": "markdown",
   "id": "babd9c37",
   "metadata": {},
   "source": [
    "* 정점 집합 $\\{0,3,4,6\\}$과 $\\{1,2,5,7\\}$을 각각 연결 요소(connected component)라고 함"
   ]
  },
  {
   "cell_type": "markdown",
   "id": "27ac4961",
   "metadata": {},
   "source": [
    "### Degree"
   ]
  },
  {
   "cell_type": "markdown",
   "id": "9d054671",
   "metadata": {},
   "source": [
    "<img src = \"img/degree.png\" width = \"50%\" height =\"50%\">"
   ]
  },
  {
   "cell_type": "markdown",
   "id": "5f4ac86f",
   "metadata": {},
   "source": [
    "* 부속(incident) : 정점 $u$와 정점 $v$ 사이에 에지 $(u,v)$가 존재할 때, $(u,v)$를 정점 $u$에 부속되었다, $v$에 부속되었다고 표현.\n",
    "\n",
    "#### 무방향 그래프\n",
    "    : 어떤 정점 v의 차수 d(v)는 정점 v가 부속된 에지 개수\n",
    "    : ex d(2)=3"
   ]
  },
  {
   "cell_type": "markdown",
   "id": "41bba9ec",
   "metadata": {},
   "source": [
    "<img src = \"img/degree2.png\" width = \"50%\" height =\"50%\">"
   ]
  },
  {
   "cell_type": "markdown",
   "id": "8fffa700",
   "metadata": {},
   "source": [
    "#### 방향 그래프 \n",
    "    : 차수를 두 가지로 나눈다. \n",
    "    - 진입 차수(in-degree)는 정점 v가 head인 경우 \n",
    "        - 정점 v로 들어오는 에지 개수 : in-d(v)\n",
    "    - 진출 차수 (out-degree)는 정점 v가 tail인 경우 \n",
    "        - 정점 v에서 나가는 에지 개수 : out-d(v) \n",
    "        \n",
    "\n",
    "   **방향 그래프 :  in-d(v) + out-d(v) = d(v)**\n",
    "   \n",
    "   : ex d(2) = 5"
   ]
  },
  {
   "cell_type": "markdown",
   "id": "70efacca",
   "metadata": {},
   "source": [
    "### Subgraph"
   ]
  },
  {
   "cell_type": "markdown",
   "id": "78d9045b",
   "metadata": {},
   "source": [
    "<img src = \"img/subgraph.png\" width = \"70%\" height =\"70%\">"
   ]
  },
  {
   "cell_type": "markdown",
   "id": "f481804e",
   "metadata": {},
   "source": [
    "* 그래프 $G'$가 $G$에 대해 $V(G') ⊆ (G)$ 고 $E(G')⊆E(G)$면 그래프 $G'$는 그래프 $G$의 부분 그래프이다"
   ]
  },
  {
   "cell_type": "markdown",
   "id": "924fdd4d",
   "metadata": {},
   "source": [
    "### Spanning Subgraph"
   ]
  },
  {
   "cell_type": "markdown",
   "id": "383c2f67",
   "metadata": {},
   "source": [
    "<img src = \"img/spanning.png\" width = \"70%\" height =\"70%\">"
   ]
  },
  {
   "cell_type": "markdown",
   "id": "1ccca7f4",
   "metadata": {},
   "source": [
    "* 그래프 $G'$가 그래프 $G$에 대해 $V'= V$고 $E(G') ⊆ E(G)$를 만족하면 이 그래프를 신장 부분 그래프라고 함"
   ]
  },
  {
   "cell_type": "markdown",
   "id": "e81592ec",
   "metadata": {},
   "source": [
    "# 6.2 그래프를 표현하는 두 가지 방법"
   ]
  },
  {
   "cell_type": "markdown",
   "id": "535e9e32",
   "metadata": {},
   "source": [
    "### 1. 인접 리스트 (adjacency list)\n",
    "* 정점이 배열의 인덱스가 됨\n",
    "* 배열 요소인 연결 리스트는 해당 정점의 인접한 정점의 집합\n",
    "\n",
    "\n",
    "* 연산\n",
    "\n",
    "    1. 정점 $v$에 대해 인접한 모든 노드를 탐색하는 연산 \n",
    "        - 해당 정점을 인데스로 삼아 배열에서 연결 리스트를 얻고 해당 리스트를 순회하면 됨\n",
    "        - 빅오 : $O(d(v))$\n",
    "    2. 정점 $u$에 대해 $(u,v) ∈ (G)$인지 검사하는 연산 \n",
    "        - 해당 정점을 인덱스로 연결 리스트를 가져와 인접한 모든 노드 순회 \n",
    "        - 빅오 : $O(d(v))$\n"
   ]
  },
  {
   "cell_type": "markdown",
   "id": "77dddb91",
   "metadata": {},
   "source": [
    "### 2. 인접 행렬 (adjacency matrix)\n",
    "* 각각의 행을 정점으로 보고 열을 자신을 포함한 다른 정점\n",
    "* (1행, 2열)은 정점 1과 정점 2 사이의 관계를 보여줌\n",
    "* 무방향 그래프는 대각선에 대해 대칭 \n",
    "* ex :\n",
    "    - ```adj_matrix```\n",
    "        - E(0,1) 존재 -> ```adj_matrix[0][1]``` = 1\n",
    "\n",
    "* 연산 \n",
    "    1. 정점 $v$에 대해 인접한 모든 노드를 탐색하는 연산 \n",
    "        - $v$행에 대해 모든 열 검사 \n",
    "        - 빅오 : $O(n)$\n",
    "    2. $(u,v)$가 있는지 여부를 확인하는 연산\n",
    "        - ```adj_matrix[u][v]``` 만 확인하면 됨\n",
    "        - 빅오 : $O(1)$ \n"
   ]
  },
  {
   "cell_type": "markdown",
   "id": "3f7b1d42",
   "metadata": {},
   "source": [
    "### Graph ADT \n",
    "\n",
    "**Object**\n",
    "    \n",
    "    : 정점 집합 $V$와 정점 집합 $V$에 속하는 $u,v$에 대해 $(u,v)$가 속하는 에지 집합 $E$로 구성된 튜플 $G=(V,E)$\n",
    "    \n",
    "\n",
    "**Operation**\n",
    "    \n",
    "    1. G.is_empty() -> Boolean\n",
    "        : 비어 있으면  TRUE, 아니면 FALSE 반환\n",
    "    2. G.add_vertex() -> integer\n",
    "        : 정점을 추가하고 정점 인데스를 반환\n",
    "    3. G.delete_vertex(v)\n",
    "        : 정점 $v$를 삭제 \n",
    "    4. G.add_edge(u,v) \n",
    "        : 에지 (u,v)를 추가\n",
    "    5. G.delete_edge(u,v)\n",
    "        : 에지 (u,v)를 삭제 \n",
    "    6. G.adj(v) -> array\n",
    "        : 정점 v에 인접한 정점 집합을 동적 배열로 반환\n",
    "\n",
    "        "
   ]
  },
  {
   "cell_type": "code",
   "execution_count": 10,
   "id": "39de5019",
   "metadata": {},
   "outputs": [],
   "source": [
    "#동적 배열로 구현한 Graph\n",
    "class Graph :\n",
    "    def __init__(self,vertex_num = None):\n",
    "        #인접 리스트\n",
    "        self.adj_list =[]\n",
    "        self.vtx_num = 0\n",
    "        \n",
    "        #정점이 있으면 True if not False\n",
    "        self.vtx_arr=[]\n",
    "        \n",
    "        #정점 개수를 매개변수로 넘기면 초기화 진행 \n",
    "        if vertex_num:\n",
    "            self.vtx_num = vertex_num\n",
    "            self.vtx_arr = [True for _ in range(self.vtx_num)]\n",
    "            \n",
    "            #배열 요소로 연결 리스트 대신 동적 배열을 사용함\n",
    "            self.adj_list = [[] for _ in range(self.vtx_num)]\n",
    "            \n",
    "    def is_empty(self):\n",
    "        if self.vtx_num == 0:\n",
    "            return True\n",
    "        return False\n",
    "    \n",
    "    def add_vertex(self):\n",
    "        for i in range(len(self.vtx_arr)):\n",
    "            #중간에 삭제된 정점이 있을 경우 재사용\n",
    "            #vtx_arr 값이 false면 삭제된 정점이라는 의미\n",
    "            if self.vtx_arr[i] == False:\n",
    "                self.vtx_num += 1\n",
    "                self.vtx_arr[i] = True\n",
    "                return i\n",
    "        #삭제된 정점이 없다면 정점을 하나 추가한다\n",
    "        self.adj_list.append([])\n",
    "        self.vtx_num +=1\n",
    "        self.vtx_arr.append(True)\n",
    "        return self.vtx_num -1 \n",
    "    \n",
    "    def delete_vertex(self,v):\n",
    "        if v >= self.vtx_num:\n",
    "            raise Exception(f\"There is no vertex of {v}\")\n",
    "        \n",
    "        #정점 v가 있으면 \n",
    "        if self.vtx_arr[v]:\n",
    "            #정점 v의 인접 정점 집합을 초기화\n",
    "            self.adj_list[v] = []\n",
    "            self.vtx_num -= 1\n",
    "            self.vtx_arr[v] = False\n",
    "            #나머지 정점 중 v와 인접한 정점이 있다면 리스트에서 v를 제거 \n",
    "            for adj in self.adj_list:\n",
    "                for vertex in adj:\n",
    "                    if vertex == v:\n",
    "                        adj.remove(vertex)\n",
    "                        \n",
    "                        \n",
    "    def add_edge(self,u,v):\n",
    "        self.adj_list[u].append(v)\n",
    "        self.adj_list[v].append(u)\n",
    "        \n",
    "    def delete_edge(self, u, v):\n",
    "        self.adj_list[u].remove(v)\n",
    "        self.adj_list[v].remove(u)\n",
    "        \n",
    "    def adj(self,v):\n",
    "        return self.adj_list[v]"
   ]
  },
  {
   "cell_type": "code",
   "execution_count": 11,
   "id": "d14d9a73",
   "metadata": {},
   "outputs": [
    {
     "name": "stdout",
     "output_type": "stream",
     "text": [
      "num of vertices : 4\n",
      "vertices : {0, 1, 2, 3, }\n",
      "[0] : {1,  2,  3,  }\n",
      "[1] : {0,  2,  }\n",
      "[2] : {0,  1,  3,  }\n",
      "[3] : {0,  2,  }\n",
      "\n",
      "num of vertices : 5\n",
      "vertices : {0, 1, 2, 3, 4, }\n",
      "[0] : {1,  2,  3,  }\n",
      "[1] : {0,  2,  4,  }\n",
      "[2] : {0,  1,  3,  4,  }\n",
      "[3] : {0,  2,  }\n",
      "[4] : {1,  2,  }\n",
      "\n",
      "num of vertices : 4\n",
      "vertices : {0, 1, 3, 4, }\n",
      "[0] : {1,  3,  }\n",
      "[1] : {0,  4,  }\n",
      "[3] : {0,  }\n",
      "[4] : {1,  }\n",
      "\n",
      "2\n",
      "num of vertices : 5\n",
      "vertices : {0, 1, 2, 3, 4, }\n",
      "[0] : {1,  3,  }\n",
      "[1] : {0,  4,  2,  }\n",
      "[2] : {1,  4,  }\n",
      "[3] : {0,  }\n",
      "[4] : {1,  2,  }\n",
      "\n"
     ]
    }
   ],
   "source": [
    "# 그래프를 편하게 보기 위한 편의 함수\n",
    "def show_graph(g):\n",
    "    print(f\"num of vertices : {g.vtx_num}\")\n",
    "    print(\"vertices : {\", end=\"\")\n",
    "    for i in range(len(g.vtx_arr)):\n",
    "        if g.vtx_arr[i]:\n",
    "            print(f\"{i}, \", end=\"\")\n",
    "    print(\"}\")\n",
    "    for i in range(len(g.vtx_arr)):\n",
    "        if g.vtx_arr[i]:\n",
    "            print(f\"[{i}] : {{\", end=\"\")\n",
    "            for j in g.adj_list[i]:\n",
    "                print(f\"{j}, \", end=\" \")\n",
    "            print(\"}\")\n",
    "\n",
    "if __name__==\"__main__\":\n",
    "    g=Graph(4)\n",
    "    g.add_edge(0, 1)\n",
    "    g.add_edge(0, 2)\n",
    "    g.add_edge(0, 3)\n",
    "    g.add_edge(1, 2)\n",
    "    g.add_edge(2, 3)\n",
    "    show_graph(g)\n",
    "    print()\n",
    "\n",
    "    added=g.add_vertex()\n",
    "    g.add_edge(added, 1)\n",
    "    g.add_edge(added, 2)\n",
    "    show_graph(g)\n",
    "    print()\n",
    "\n",
    "    g.delete_vertex(2)\n",
    "    show_graph(g)\n",
    "    print()\n",
    "\n",
    "    added=g.add_vertex()\n",
    "    print(added)\n",
    "    g.add_edge(added, 1)\n",
    "    g.add_edge(added, 4)\n",
    "    show_graph(g)\n",
    "    print()"
   ]
  },
  {
   "cell_type": "markdown",
   "id": "c0753107",
   "metadata": {},
   "source": [
    "# 6.3 그래프의 모든 노드 방문\n",
    "\n",
    "1. Breadth First Search, BFS \n",
    "    - Queue 통해서 구현 \n",
    "    \n",
    "    \n",
    "2. Depth First Search, DFS\n",
    "    - Stack 통해서 구현 "
   ]
  },
  {
   "cell_type": "markdown",
   "id": "0d7e316b",
   "metadata": {},
   "source": [
    "## 6.3.1 너비 우선 탐색"
   ]
  },
  {
   "cell_type": "markdown",
   "id": "dc68a19e",
   "metadata": {},
   "source": [
    "<img src = \"img/bfs.png\" width = \"70%\" height = \"70%\">"
   ]
  },
  {
   "cell_type": "markdown",
   "id": "3cc0e02b",
   "metadata": {},
   "source": [
    "* BFS의 순서 : 출발 정점 v가 3 일 때\n",
    "\n",
    "    1. $L_{1}$ 의 정점 3 방문\n",
    "    \n",
    "    2. 정점 3에 인접한 $L_{2}$의 모든 정점 방문 \n",
    "    \n",
    "    3. $L_{2}$의 정점에서 인접한 $L_{3}$의 모든 정점 방문 \n",
    "    \n",
    "    4. 모든 정점을 방문할 때까지 계속 반복 "
   ]
  },
  {
   "cell_type": "code",
   "execution_count": 12,
   "id": "8b2ebc81",
   "metadata": {},
   "outputs": [],
   "source": [
    "#Queue로 구현한 BFS\n",
    "\n",
    "from queue import Queue \n",
    "\n",
    "class Graph:\n",
    "    def __inint__(self,vertex_num):\n",
    "        #인접 리스트로 구현 \n",
    "        self.adj_list = [[] for _ in range(vertex_num)]\n",
    "        #방문 여부 체크 - 매우 중요한 배열\n",
    "        self.visited = [False for _ in range(vertex_num)]\n",
    "        \n",
    "    def add_edge(self,u,v):\n",
    "        self.adj_list[u].append(v)\n",
    "        self.adj_list[v].append(u)\n",
    "        \n",
    "    def init_visited(self):\n",
    "        for i in range(len(self.visited)):\n",
    "            self.visited[i] = False\n",
    "            \n",
    "    def bfs(self,v):\n",
    "        q = Queue()\n",
    "        #방문 체크 리스트 초기화 \n",
    "        self.init_visited()\n",
    "        \n",
    "        #첫 번째 정점을 큐에 넣고 방문 체크 \n",
    "        q.put(v)\n",
    "        self.visited[v] = True\n",
    "        \n",
    "        while not q.empty():\n",
    "            v = q.get()\n",
    "            #방문\n",
    "            print(v, end='')\n",
    "            \n",
    "            #인접 리스트를 구함\n",
    "            adj_v = self.adj_list[v]\n",
    "            for u in adj_v:\n",
    "                if not self.visited[u]:\n",
    "                    q.put(u)\n",
    "                    self.visited[u] = True"
   ]
  },
  {
   "cell_type": "markdown",
   "id": "0c2768e4",
   "metadata": {},
   "source": [
    "## 6.3.2 깊이 우선 탐색"
   ]
  },
  {
   "cell_type": "markdown",
   "id": "127c2d0c",
   "metadata": {},
   "source": [
    "#### 두가지 경우 모두 이용할 예정\n",
    "* 스택 프레임을 이용하여 묵시적으로 스택을 사용하는 경우\n",
    "    \n",
    "    : 재귀 함수를 호출하면 스택 프레임을 요소로 스택에 쌓은 것과 같음\n",
    "    \n",
    "    \n",
    "* 스택 자료 구조를 명시적으로 사용하는 경우\n"
   ]
  },
  {
   "cell_type": "code",
   "execution_count": null,
   "id": "0fca1f7f",
   "metadata": {},
   "outputs": [],
   "source": [
    "#Depth First Search with recursion\n",
    "class Graph:\n",
    "    def __dfs_recursion(self,v):\n",
    "        #방문 \n",
    "        print(v,end=\"\")\n",
    "        \n",
    "        #방문 체크 \n",
    "        self.visited[v] = True\n",
    "        \n",
    "        adj_v = self.adj_list[v]\n",
    "        for u in adj_v:\n",
    "            if not self.visited[u]:\n",
    "                self.__dfs_recurtion(u)\n",
    "                \n",
    "    def dfs(self, v):\n",
    "        self.init_visited()\n",
    "        self.__dfs_recursion(v)"
   ]
  },
  {
   "cell_type": "markdown",
   "id": "675f1309",
   "metadata": {},
   "source": [
    "<img src = 'img/dfs.png' width = \"80%\" height = \"80%\">"
   ]
  },
  {
   "cell_type": "markdown",
   "id": "c6b24d14",
   "metadata": {},
   "source": [
    "DFS는 시작 정점에서 한 방향을 정하고 그 분기로 끝까지 간후 다시 정점으로 돌아와 다른 방향으로 간다. \n",
    "\n",
    "DFS의 순서 : 출발 정점 3일 때 \n",
    "    \n",
    "    1. 정점 0으로 쭉 간 후 정점 1에서 갈 곳이 없어지면 다시 정점 3으로 복귀\n",
    "    2. 정점 4 방향으로 쭉 이동, 정점 5에서 갈 곳이 없어지면 다시 시작 정점으로 복귀 \n",
    "    3. 종료\n",
    "    \n",
    "#### 시작 정점으로 돌아온 후 더 이상 갈 곳이 없어야만 실행이 종료된다."
   ]
  },
  {
   "cell_type": "code",
   "execution_count": null,
   "id": "20366fdb",
   "metadata": {},
   "outputs": [],
   "source": [
    "#Depth First Search with Stack\n",
    "\n",
    "class Graph :\n",
    "    def iter_dfs(self,v):\n",
    "        \n",
    "        '''\n",
    "        시작 정점으로 돌아가 \n",
    "        더 이상 방문할 정점이 없어야 종료\n",
    "        '''\n",
    "        \n",
    "        s = Stack()\n",
    "        self.init_visited()\n",
    "        \n",
    "        s.push(v)\n",
    "        \n",
    "        #방문 체크 및 방문\n",
    "        self.visited[v] = True\n",
    "        print(v, end =\" \")\n",
    "        \n",
    "        #아직 방문하지 않은 정점을 방문했는가\n",
    "        is_visited = False\n",
    "        \n",
    "        while not s.empty():\n",
    "            is_visited = False\n",
    "            v = s.peek()\n",
    "            \n",
    "            #인접 리스트를 받아 온다\n",
    "            adj_v = self.adj_list[v]\n",
    "            for u in adj_v:\n",
    "                if not self.visited[u]:\n",
    "                    s.push(u)\n",
    "                    \n",
    "                    #방문 체크 및 방문\n",
    "                    self.visited[u] = True\n",
    "                    print(u, end =\" \")\n",
    "                    \n",
    "                    #아직 방문하지 않은 정점을 방문했으므로 \n",
    "                    is_visited = True\n",
    "                    break\n",
    "                    \n",
    "        if not is_visited:\n",
    "            s.pop()\n",
    "            \n",
    "    def dfs_all(self):\n",
    "        self.init_visited()\n",
    "        \n",
    "        for i in range(len(self.visited)):\n",
    "            if not self.visited[i]:\n",
    "                self.__dfs_recursion(i)"
   ]
  },
  {
   "cell_type": "code",
   "execution_count": null,
   "id": "9eb887f7",
   "metadata": {},
   "outputs": [],
   "source": [
    "#bfs 와 dfs\n",
    "if __name__==\"__main__\":\n",
    "    g=Graph(6)\n",
    "    g.add_edge(1, 0)\n",
    "    g.add_edge(0, 3)\n",
    "    g.add_edge(3, 4)\n",
    "    g.add_edge(4, 2)\n",
    "    g.add_edge(2, 5)\n",
    "\n",
    "    #예상 출력 결과 : 3  0  4  1  2  5\n",
    "    g.bfs(3)\n",
    "    print()\n",
    "    #예상 출력 결과 : 3  0  1  4  2  5\n",
    "    g.dfs(3)\n",
    "    print()\n",
    "\n",
    "    g.iter_dfs(3)\n",
    "    print(\"\\n\\n\\n\")\n",
    "\n",
    "    print(\"dfs_all test code\")\n",
    "    g2=Graph(6)\n",
    "    g2.add_edge(0, 3)\n",
    "    g2.add_edge(1, 3)\n",
    "    g2.add_edge(2, 5)\n",
    "    g2.add_edge(4, 5)\n",
    "\n",
    "    print(\"dfs\")\n",
    "    g2.dfs(1)\n",
    "    print()\n",
    "\n",
    "    print(\"dfs_all\")\n",
    "    g2.dfs_all()\n",
    "    print()"
   ]
  }
 ],
 "metadata": {
  "kernelspec": {
   "display_name": "Python 3 (ipykernel)",
   "language": "python",
   "name": "python3"
  },
  "language_info": {
   "codemirror_mode": {
    "name": "ipython",
    "version": 3
   },
   "file_extension": ".py",
   "mimetype": "text/x-python",
   "name": "python",
   "nbconvert_exporter": "python",
   "pygments_lexer": "ipython3",
   "version": "3.9.7"
  }
 },
 "nbformat": 4,
 "nbformat_minor": 5
}
